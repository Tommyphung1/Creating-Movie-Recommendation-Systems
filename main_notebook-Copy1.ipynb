{
 "cells": [
  {
   "cell_type": "markdown",
   "metadata": {},
   "source": [
    "The **KnnBaseline** performed the best out of all the models for the memory based algorithm. "
   ]
  },
  {
   "cell_type": "markdown",
   "metadata": {},
   "source": [
    "**Knn Baseline** perform **slightly better** than the SVD method so we will use that for our model."
   ]
  },
  {
   "cell_type": "markdown",
   "metadata": {},
   "source": [
    "## Item to Item Comparisons\n",
    "There happen to be more movies than a user, so it would be ideal to see if item-based filtering would perform better than the user-based model. Unfortunately, it did not. "
   ]
  },
  {
   "cell_type": "code",
   "execution_count": 17,
   "metadata": {},
   "outputs": [
    {
     "name": "stdout",
     "output_type": "stream",
     "text": [
      "Estimating biases using als...\n",
      "Computing the pearson similarity matrix...\n",
      "Done computing similarity matrix.\n",
      "RMSE: 0.8890\n",
      "0.8889934058130716\n"
     ]
    }
   ],
   "source": [
    "### Train another model but item to item comparison instead ###\n",
    "\n",
    "sim_pearson = {\"name\": \"pearson\", \"user_based\": False}\n",
    "knn_baseline_item = knns.KNNBaseline(k = 30, min_k = 4,sim_options=sim_pearson, random_state = 69)\n",
    "knn_baseline_item.fit(trainset)\n",
    "predictions = knn_baseline_item.test(testset)\n",
    "print(accuracy.rmse(predictions))"
   ]
  },
  {
   "cell_type": "code",
   "execution_count": 95,
   "metadata": {},
   "outputs": [
    {
     "data": {
      "text/plain": [
       "Prediction(uid=275, iid=4306, r_ui=3.0, est=4.534786018971504, details={'actual_k': 30, 'was_impossible': False})"
      ]
     },
     "metadata": {},
     "output_type": "display_data"
    },
    {
     "data": {
      "text/plain": [
       "Prediction(uid=275, iid=4306, r_ui=3.0, est=4.216200786371028, details={'actual_k': 30, 'was_impossible': False})"
      ]
     },
     "metadata": {},
     "output_type": "display_data"
    }
   ],
   "source": [
    "### First look at the predictions ### \n",
    "predictions_user = knn_baseline.test(testset)\n",
    "predictions_item = knn_baseline_item.test(testset)\n",
    "\n",
    "display(predictions_item[0], predictions_user[0])\n",
    "\n",
    "actual = np.array([real[2] for real in predictions_user])\n",
    "pred_1 = np.array([pred[3] for pred in predictions_user])\n",
    "pred_2 = np.array([pred[3] for pred in predictions_item])\n",
    "\n",
    "pred_combined = (pred_1 + pred_2)/2"
   ]
  },
  {
   "cell_type": "markdown",
   "metadata": {},
   "source": [
    "## User Example 1 Recommendation\n",
    "Examples of the model work to provide recommendations based on the user given. User 1 was used for showing how the system would work.  <br>\n",
    "Both of the graphs are from the model's prediction with the watched movies removed. <br>\n",
    "Id is still used for readability. "
   ]
  },
  {
   "cell_type": "markdown",
   "metadata": {},
   "source": [
    "### Example Graph comparison"
   ]
  },
  {
   "cell_type": "code",
   "execution_count": 18,
   "metadata": {},
   "outputs": [
    {
     "data": {
      "image/png": "[encoded data removed]",
      "text/plain": [
       "<Figure size 720x360 with 2 Axes>"
      ]
     },
     "metadata": {
      "needs_background": "light"
     },
     "output_type": "display_data"
    }
   ],
   "source": [
    "import matplotlib.pyplot as plt\n",
    "import numpy as np\n",
    "\n",
    "user_user = hp.user_top_5(user_id = 1, model = knn_baseline, review_df = ratings, movies = movies)        ## The list of movies with the best model\n",
    "item_item = hp.user_top_5(user_id = 1, model = knn_baseline_item, review_df = ratings, movies = movies)   ## The list of movies with the best model based off items\n",
    "x_1 = [ID[0] for ID in user_user]   ## All movie id numbers predicted\n",
    "x_2 = [ID[0] for ID in item_item]   ## All movie id numbers predicted from item based \n",
    "y_1 = [ID[1] for ID in user_user]   ## Movie Ratings from user based model\n",
    "y_2 = [ID[1] for ID in item_item]   ## Movie Ratings from item based model\n",
    "\n",
    "fig, ax = plt.subplots(ncols= 2, figsize = (10,5))\n",
    "\n",
    "ax[0].set_title('Users Based Predictions')\n",
    "ax[0].set_xlabel('Movie IDs')\n",
    "ax[0].set_ylabel('Ratings (0-5)')\n",
    "ax[0].set_ylim(0, 5.1)\n",
    "ax[0].scatter(x_1, y_1, label = 'User - User', color = 'green');\n",
    "ax[0].axhline(np.mean(y_2), color = 'red',label= round(np.mean(y_1), 2))\n",
    "ax[0].legend();\n",
    "\n",
    "ax[1].set_title('Items Based Predictions')\n",
    "ax[1].set_ylim(0, 5.1)\n",
    "ax[1].set_ylabel('Ratings (0-5)')\n",
    "ax[1].set_xlabel('Movie IDs')\n",
    "ax[1].scatter(x_2, y_2, label = 'Item - Item');\n",
    "ax[1].axhline(np.mean(y_2), color = 'red', label= round(np.mean(y_2), 2))\n",
    "ax[1].legend();"
   ]
  },
  {
   "cell_type": "markdown",
   "metadata": {},
   "source": [
    "### Comparison Analysis\n",
    "From the predicted ratings for user 1, we can see **a slight difference** in user similarity vs item similarity between movies. Interestingly, the item comparison has all the movies rated above three which goes inside with user 1 trend on rating movies. User 1 doesn't seem so **rate movies lower than three** often and therefore most movies would be rated similarly. Due to the number of users, there is a bigger disparity between users with the movies they watched naturally. \n"
   ]
  },
  {
   "cell_type": "code",
   "execution_count": 19,
   "metadata": {},
   "outputs": [
    {
     "data": {
      "text/plain": [
       "5.0    124\n",
       "4.0     76\n",
       "3.0     26\n",
       "2.0      5\n",
       "1.0      1\n",
       "Name: rating, dtype: int64"
      ]
     },
     "execution_count": 19,
     "metadata": {},
     "output_type": "execute_result"
    }
   ],
   "source": [
    "### Displays the distribution of ratings for the ratings dataset. \n",
    "ratings['rating'].loc[ratings['userId'] == 1].value_counts()"
   ]
  },
  {
   "cell_type": "code",
   "execution_count": 20,
   "metadata": {},
   "outputs": [
    {
     "name": "stdout",
     "output_type": "stream",
     "text": [
      "Movies from User Filter\n",
      "['Hoop Dreams (1994)']\n",
      "['Three Colors: White (Trzy kolory: Bialy) (1994)']\n",
      "['Shawshank Redemption, The (1994)']\n",
      "['In the Name of the Father (1993)']\n",
      "['Wallace & Gromit: The Best of Aardman Animation (1996)']\n",
      "Movies from Movie Filter\n",
      "['Shawshank Redemption, The (1994)']\n",
      "['Ghost in the Shell (Kôkaku kidôtai) (1995)']\n",
      "['Dr. Strangelove or: How I Learned to Stop Worrying and Love the Bomb (1964)']\n",
      "['Sunset Blvd. (a.k.a. Sunset Boulevard) (1950)']\n",
      "['Cool Hand Luke (1967)']\n"
     ]
    }
   ],
   "source": [
    "### Print out the results from the models ###\n",
    "\n",
    "print('Movies from User Filter')\n",
    "for item in user_user[0:5]:\n",
    "    print(movies['title'].loc[movies['movieId'] == item[0]].values)\n",
    "print('Movies from Movie Filter')\n",
    "for item in item_item[0:5]:\n",
    "    print(movies['title'].loc[movies['movieId'] == item[0]].values)"
   ]
  },
  {
   "cell_type": "code",
   "execution_count": 92,
   "metadata": {},
   "outputs": [
    {
     "data": {
      "text/plain": [
       "596     Ghost in the Shell (Kôkaku kidôtai) (1995)\n",
       "681                     Singin' in the Rain (1952)\n",
       "711                               Notorious (1946)\n",
       "8995                                Sicario (2015)\n",
       "9162                         Big Short, The (2015)\n",
       "Name: title, dtype: object"
      ]
     },
     "execution_count": 92,
     "metadata": {},
     "output_type": "execute_result"
    }
   ],
   "source": [
    "pred_user_1 = hp.user_top_5(knn_baseline, ratings, 1, movies)\n",
    "user_suggestions = get_genres([ID[0] for ID in pred_user_1], movies)\n",
    "movie_index = []\n",
    "for index, suggestion in enumerate(user_suggestions):\n",
    "    if suggestion in user_1_top_genres:\n",
    "        movie_index.append(index - 1)\n",
    "    if len(movie_index) == 5:\n",
    "        break\n",
    "top_movie_genre = [pred_user_1[value][0] for value in movie_index]\n",
    "hp.id_title(top_movie_genre, movies)"
   ]
  },
  {
   "cell_type": "markdown",
   "metadata": {},
   "source": [
    "## Next Step\n",
    "We created two models to help with filtering out the movies.\n",
    "One recommended movies based on the **similarities of the users** and how they rated other movies. The second recommends movies based on the **similarities of movies** that the users have seen and rated them. \n",
    "\n",
    "My first attempt was to use a ranking system based on their position in the list to both of the lists. Then the sum of that rank is taken and the lowest values were suggested to user 1. "
   ]
  },
  {
   "cell_type": "code",
   "execution_count": 21,
   "metadata": {},
   "outputs": [
    {
     "data": {
      "text/plain": [
       "array(['Shawshank Redemption, The (1994)',\n",
       "       'Ghost in the Shell (Kôkaku kidôtai) (1995)',\n",
       "       'Dr. Strangelove or: How I Learned to Stop Worrying and Love the Bomb (1964)',\n",
       "       'Sunset Blvd. (a.k.a. Sunset Boulevard) (1950)',\n",
       "       'Boot, Das (Boat, The) (1981)'], dtype=object)"
      ]
     },
     "execution_count": 21,
     "metadata": {},
     "output_type": "execute_result"
    }
   ],
   "source": [
    "final_df = hp.create_ranked_df(user_user, item_item, movies)\n",
    "final_df['Movie Id'][0:5].values"
   ]
  },
  {
   "cell_type": "markdown",
   "metadata": {},
   "source": [
    "## Different Approachs\n",
    "Assuming that the two models combined will give a better accuracy than model individually, we can make a rating system that takes the average of the two ratings and potentially get a close rating for the test set from before. \n",
    "\n",
    "Another approach was to use content filtering and use the users previous prefered genres from the movies they rated highly on. Their is no way to know that a user would like them, but we can assume that a user would like similar genres over others listed. "
   ]
  },
  {
   "cell_type": "code",
   "execution_count": 22,
   "metadata": {},
   "outputs": [],
   "source": []
  },
  {
   "cell_type": "code",
   "execution_count": 93,
   "metadata": {},
   "outputs": [
    {
     "data": {
      "text/plain": [
       "array(['Shawshank Redemption, The (1994)',\n",
       "       'Ghost in the Shell (Kôkaku kidôtai) (1995)',\n",
       "       'Dr. Strangelove or: How I Learned to Stop Worrying and Love the Bomb (1964)',\n",
       "       'High Noon (1952)',\n",
       "       'Lord of the Rings: The Fellowship of the Ring, The (2001)'],\n",
       "      dtype=object)"
      ]
     },
     "execution_count": 93,
     "metadata": {},
     "output_type": "execute_result"
    }
   ],
   "source": [
    "ids = [id[0] for id in sorted(user_user, key= lambda x:x[0])]\n",
    "\n",
    "rate_1 = np.array([user[1] for user in sorted(user_user, key= lambda x:x[0])])\n",
    "rate_2 = np.array([item[1] for item in sorted(item_item, key= lambda x:x[0])])\n",
    "\n",
    "rate_comb = (rate_1 + rate_2)/2\n",
    "                   \n",
    "rated_df = pd.DataFrame(zip(ids, rate_comb), columns= ['Movie_ID', 'Combined_Rating'])     \n",
    "hp.id_title(rated_df.sort_values('Combined_Rating', ascending= False)[0:5]['Movie_ID'].values, movies).values"
   ]
  },
  {
   "cell_type": "markdown",
   "metadata": {},
   "source": [
    "### Individual Results \n",
    "The **Top movies** for these methods are as followed\n",
    "\n",
    "| Weighted Ranks Sum | Average Ratings Movies | Includes Favorite Genres |\n",
    "|:---:|:---:|:---:|\n",
    "| **'Shawshank Redemption, The (1994)'** | **'Shawshank Redemption, The (1994)'** | **Ghost in the Shell (Kôkaku kidôtai) (1995)** |\n",
    "| **'Sunset Blvd. (a.k.a. Sunset Boulevard) (1950)'** | **'Sunset Blvd. (a.k.a. Sunset Boulevard) (1950)'** | Singin' in the Rain (1952) |\n",
    "| **'Dr. Strangelove or: How I Learned to Stop Worrying and Love the Bomb (1964)'** | **'Dr. Strangelove or: How I Learned to Stop Worrying and Love the Bomb (1964)'** | Notorious (1946) |\n",
    "| **'Ghost in the Shell (Kôkaku kidôtai) (1995)'** | 'Lord of the Rings: The Fellowship of the Ring, The (2001)' | Sicario (2015) |\n",
    "| 'Wallace & Gromit: The Best of Aardman Animation (1996)' | 'High Noon (1952)' | Big Short, The (2015) |\n",
    "\n",
    "Some similar movies were suggested but there is no way to tell whether a user would like the recommendation that was created. <br> \n",
    "**The weighted ranked** recommendations consider all the movies and their respective ranking to give a **more diverse spread**. <br> \n",
    "**The average ratings** make sure that **only highly rated movies** are shown as a recommendation from the prediction ratings. <br> \n",
    "Using their **favorite genre** can filter out movies they wouldn't normally watch with ones that they are **familiar** with. "
   ]
  },
  {
   "cell_type": "code",
   "execution_count": 16,
   "metadata": {},
   "outputs": [
    {
     "data": {
      "text/plain": [
       "(254     Léon: The Professional (a.k.a. The Professiona...\n",
       " 257                                   Pulp Fiction (1994)\n",
       " 1939                                   Matrix, The (1999)\n",
       " 2226                                    Fight Club (1999)\n",
       " 3141                                       Memento (2000)\n",
       " Name: title, dtype: object,\n",
       " 585     Wallace & Gromit: The Best of Aardman Animatio...\n",
       " 883                                 Paths of Glory (1957)\n",
       " 1725                                     Happiness (1998)\n",
       " 2582                  Guess Who's Coming to Dinner (1967)\n",
       " 3087        In the Mood For Love (Fa yeung nin wa) (2000)\n",
       " Name: title, dtype: object)"
      ]
     },
     "execution_count": 16,
     "metadata": {},
     "output_type": "execute_result"
    }
   ],
   "source": [
    "### Cases ###\n",
    "# 1. A new user is detected and display top 5 movies from the current ratings. \n",
    "# Does not use model since there is nothing to go off from \n",
    "# user_top_5(review_df= ratings)\n",
    "\n",
    "# 2. User exist and have movies watched\n",
    "# Return the list of movies with the ranking. \n",
    "top_5_1 = hp.user_top_5(knn_baseline,ratings, user_id = 3, movies= movies)\n",
    "top_5_1_title = hp.id_title([ID[0] for ID in top_5_1[0:5]], movies)\n",
    "\n",
    "# 3. User exist and have movies watched\n",
    "# Return the list of movies with the ranking. \n",
    "top_5_593 = hp.user_top_5(knn_baseline,ratings, user_id = 593, movies= movies)\n",
    "top_5_593_title = hp.id_title([ID[0] for ID in top_5_593[0:5]], movies)\n",
    "\n",
    "top_5_1_title, top_5_593_title"
   ]
  },
  {
   "cell_type": "markdown",
   "metadata": {
    "tags": []
   },
   "source": [
    "### Final Movies Recommendation \n",
    "Some of the movies were in the top movies list in their list of movies. Based on the ratings and rank we given, some movies was movies were movied up and down which ideally give the best movies to user 1. "
   ]
  },
  {
   "cell_type": "code",
   "execution_count": 26,
   "metadata": {},
   "outputs": [
    {
     "data": {
      "text/plain": [
       "0.8715940464071135"
      ]
     },
     "execution_count": 26,
     "metadata": {},
     "output_type": "execute_result"
    }
   ],
   "source": [
    "from sklearn.metrics import mean_squared_error\n",
    "mean_squared_error(actual, pred_combined, squared= False)"
   ]
  },
  {
   "cell_type": "markdown",
   "metadata": {},
   "source": [
    "### All Model Results \n",
    "Comparing all the models, there is a slight improvement in the RSME score with the combined ratings of the item and user models.\n",
    "\n",
    "|            | **Knn_Baseline_user** | **Knn_Baseline_item** | **Combined Rating** |\n",
    "|------------|:---------------------:|:---------------------:|:-------------------:|\n",
    "| RSME Score | .8776                 | .8899                 | **.8708**           |"
   ]
  },
  {
   "cell_type": "markdown",
   "metadata": {},
   "source": [
    "### Examples\n",
    "Test cases on new users and new movies to handle cold starts and add new movies whenever a user is reviewing a new movie. "
   ]
  },
  {
   "cell_type": "markdown",
   "metadata": {},
   "source": [
    "**Case 1:** A new user wants recommendation to start watching movies <br>\n",
    "**Results:** Recommends the top average movie tiltes from all ratings\n",
    "\n",
    "A **new user** with a invalid user ID or no given ID will be recommended **5 of the top movies**. "
   ]
  },
  {
   "cell_type": "code",
   "execution_count": null,
   "metadata": {},
   "outputs": [],
   "source": []
  },
  {
   "cell_type": "markdown",
   "metadata": {},
   "source": [
    "**Case 2:** A user rated an existing movie in the list <br>\n",
    "**Results:** Add a rating in the 'Ratings' dataset with the user ID, Movid Id and rating.\n",
    "\n",
    "**User 11** reviews the movie ID, **1**, with the rating of **4.5**. "
   ]
  },
  {
   "cell_type": "code",
   "execution_count": 27,
   "metadata": {},
   "outputs": [
    {
     "data": {
      "text/html": [
       "<div>\n",
       "<style scoped>\n",
       "    .dataframe tbody tr th:only-of-type {\n",
       "        vertical-align: middle;\n",
       "    }\n",
       "\n",
       "    .dataframe tbody tr th {\n",
       "        vertical-align: top;\n",
       "    }\n",
       "\n",
       "    .dataframe thead th {\n",
       "        text-align: right;\n",
       "    }\n",
       "</style>\n",
       "<table border=\"1\" class=\"dataframe\">\n",
       "  <thead>\n",
       "    <tr style=\"text-align: right;\">\n",
       "      <th></th>\n",
       "      <th>userId</th>\n",
       "      <th>movieId</th>\n",
       "      <th>rating</th>\n",
       "    </tr>\n",
       "  </thead>\n",
       "  <tbody>\n",
       "    <tr>\n",
       "      <th>100832</th>\n",
       "      <td>610.0</td>\n",
       "      <td>168248.0</td>\n",
       "      <td>5.0</td>\n",
       "    </tr>\n",
       "    <tr>\n",
       "      <th>100833</th>\n",
       "      <td>610.0</td>\n",
       "      <td>168250.0</td>\n",
       "      <td>5.0</td>\n",
       "    </tr>\n",
       "    <tr>\n",
       "      <th>100834</th>\n",
       "      <td>610.0</td>\n",
       "      <td>168252.0</td>\n",
       "      <td>5.0</td>\n",
       "    </tr>\n",
       "    <tr>\n",
       "      <th>100835</th>\n",
       "      <td>610.0</td>\n",
       "      <td>170875.0</td>\n",
       "      <td>3.0</td>\n",
       "    </tr>\n",
       "    <tr>\n",
       "      <th>100836</th>\n",
       "      <td>11.0</td>\n",
       "      <td>1.0</td>\n",
       "      <td>4.5</td>\n",
       "    </tr>\n",
       "  </tbody>\n",
       "</table>\n",
       "</div>"
      ],
      "text/plain": [
       "        userId   movieId  rating\n",
       "100832   610.0  168248.0     5.0\n",
       "100833   610.0  168250.0     5.0\n",
       "100834   610.0  168252.0     5.0\n",
       "100835   610.0  170875.0     3.0\n",
       "100836    11.0       1.0     4.5"
      ]
     },
     "execution_count": 27,
     "metadata": {},
     "output_type": "execute_result"
    }
   ],
   "source": [
    "new_review = {'user_id': 11, 'movie_id': 1 , 'rating': 4.5}\n",
    "new_df, new_movies = hp.add_review(new_review, ratings,movies)\n",
    "new_df.tail()"
   ]
  },
  {
   "cell_type": "markdown",
   "metadata": {},
   "source": [
    "**Case 3:** A new user rated an existing movie in the list\n",
    "Results: Give the user a new ID and add a rating in the 'Ratings' dataset with the user ID, Movid Id and rating.\n",
    "\n",
    "A **new user** is assigned a new ID number and rate thhe movie, **304** with a rating **3.0**"
   ]
  },
  {
   "cell_type": "code",
   "execution_count": 28,
   "metadata": {},
   "outputs": [
    {
     "name": "stdout",
     "output_type": "stream",
     "text": [
      "New user number assignment: 611\n"
     ]
    },
    {
     "data": {
      "text/html": [
       "<div>\n",
       "<style scoped>\n",
       "    .dataframe tbody tr th:only-of-type {\n",
       "        vertical-align: middle;\n",
       "    }\n",
       "\n",
       "    .dataframe tbody tr th {\n",
       "        vertical-align: top;\n",
       "    }\n",
       "\n",
       "    .dataframe thead th {\n",
       "        text-align: right;\n",
       "    }\n",
       "</style>\n",
       "<table border=\"1\" class=\"dataframe\">\n",
       "  <thead>\n",
       "    <tr style=\"text-align: right;\">\n",
       "      <th></th>\n",
       "      <th>userId</th>\n",
       "      <th>movieId</th>\n",
       "      <th>rating</th>\n",
       "    </tr>\n",
       "  </thead>\n",
       "  <tbody>\n",
       "    <tr>\n",
       "      <th>100832</th>\n",
       "      <td>610.0</td>\n",
       "      <td>168248.0</td>\n",
       "      <td>5.0</td>\n",
       "    </tr>\n",
       "    <tr>\n",
       "      <th>100833</th>\n",
       "      <td>610.0</td>\n",
       "      <td>168250.0</td>\n",
       "      <td>5.0</td>\n",
       "    </tr>\n",
       "    <tr>\n",
       "      <th>100834</th>\n",
       "      <td>610.0</td>\n",
       "      <td>168252.0</td>\n",
       "      <td>5.0</td>\n",
       "    </tr>\n",
       "    <tr>\n",
       "      <th>100835</th>\n",
       "      <td>610.0</td>\n",
       "      <td>170875.0</td>\n",
       "      <td>3.0</td>\n",
       "    </tr>\n",
       "    <tr>\n",
       "      <th>100836</th>\n",
       "      <td>611.0</td>\n",
       "      <td>304.0</td>\n",
       "      <td>3.0</td>\n",
       "    </tr>\n",
       "  </tbody>\n",
       "</table>\n",
       "</div>"
      ],
      "text/plain": [
       "        userId   movieId  rating\n",
       "100832   610.0  168248.0     5.0\n",
       "100833   610.0  168250.0     5.0\n",
       "100834   610.0  168252.0     5.0\n",
       "100835   610.0  170875.0     3.0\n",
       "100836   611.0     304.0     3.0"
      ]
     },
     "execution_count": 28,
     "metadata": {},
     "output_type": "execute_result"
    }
   ],
   "source": [
    "new_review = {'user_id': None, 'movie_id': 304, 'title':None , 'genre':None, 'rating': 3.0}\n",
    "new_df, new_movies = hp.add_review(new_review, ratings,movies)\n",
    "new_df.tail()"
   ]
  },
  {
   "cell_type": "markdown",
   "metadata": {},
   "source": [
    "**Case 4:** A user rated a new movie in the list <br>\n",
    "**Results:** Add a new movie ID, title and genre to the movies list and add a rating in the 'Ratings' dataset with the user ID, new Movid Id and rating.\n",
    "\n",
    "**User 501** wants to add a **new movie** with the rating of **1.0**"
   ]
  },
  {
   "cell_type": "code",
   "execution_count": 29,
   "metadata": {},
   "outputs": [
    {
     "data": {
      "text/html": [
       "<div>\n",
       "<style scoped>\n",
       "    .dataframe tbody tr th:only-of-type {\n",
       "        vertical-align: middle;\n",
       "    }\n",
       "\n",
       "    .dataframe tbody tr th {\n",
       "        vertical-align: top;\n",
       "    }\n",
       "\n",
       "    .dataframe thead th {\n",
       "        text-align: right;\n",
       "    }\n",
       "</style>\n",
       "<table border=\"1\" class=\"dataframe\">\n",
       "  <thead>\n",
       "    <tr style=\"text-align: right;\">\n",
       "      <th></th>\n",
       "      <th>movieId</th>\n",
       "      <th>title</th>\n",
       "      <th>genres</th>\n",
       "    </tr>\n",
       "  </thead>\n",
       "  <tbody>\n",
       "    <tr>\n",
       "      <th>9738</th>\n",
       "      <td>193583</td>\n",
       "      <td>No Game No Life: Zero (2017)</td>\n",
       "      <td>animation|comedy|fantasy</td>\n",
       "    </tr>\n",
       "    <tr>\n",
       "      <th>9739</th>\n",
       "      <td>193585</td>\n",
       "      <td>Flint (2017)</td>\n",
       "      <td>drama</td>\n",
       "    </tr>\n",
       "    <tr>\n",
       "      <th>9740</th>\n",
       "      <td>193587</td>\n",
       "      <td>Bungo Stray Dogs: Dead Apple (2018)</td>\n",
       "      <td>action|animation</td>\n",
       "    </tr>\n",
       "    <tr>\n",
       "      <th>9741</th>\n",
       "      <td>193609</td>\n",
       "      <td>Andrew Dice Clay: Dice Rules (1991)</td>\n",
       "      <td>comedy</td>\n",
       "    </tr>\n",
       "    <tr>\n",
       "      <th>9742</th>\n",
       "      <td>193610</td>\n",
       "      <td>Movie Example Movie</td>\n",
       "      <td>Action</td>\n",
       "    </tr>\n",
       "  </tbody>\n",
       "</table>\n",
       "</div>"
      ],
      "text/plain": [
       "      movieId                                title                    genres\n",
       "9738   193583         No Game No Life: Zero (2017)  animation|comedy|fantasy\n",
       "9739   193585                         Flint (2017)                     drama\n",
       "9740   193587  Bungo Stray Dogs: Dead Apple (2018)          action|animation\n",
       "9741   193609  Andrew Dice Clay: Dice Rules (1991)                    comedy\n",
       "9742   193610                  Movie Example Movie                    Action"
      ]
     },
     "execution_count": 29,
     "metadata": {},
     "output_type": "execute_result"
    }
   ],
   "source": [
    "new_review = {'user_id': 501, 'movie_id': None, 'title': 'Movie Example Movie' , 'genre':'Action', 'rating': 1.0}\n",
    "new_df, new_movies = hp.add_review(new_review, ratings,movies)\n",
    "new_df.tail()\n",
    "new_movies.tail()"
   ]
  },
  {
   "cell_type": "markdown",
   "metadata": {},
   "source": [
    "**Case 5:** A new user rated a new movie in the list <br>\n",
    "**Results:** Give the user a new ID, add a new movie ID, title and genre to the movies list and add a rating in the 'Ratings' dataset with the new user ID, new Movid Id and rating."
   ]
  },
  {
   "cell_type": "code",
   "execution_count": 30,
   "metadata": {},
   "outputs": [
    {
     "name": "stdout",
     "output_type": "stream",
     "text": [
      "New user number assignment: 611\n"
     ]
    },
    {
     "data": {
      "text/html": [
       "<div>\n",
       "<style scoped>\n",
       "    .dataframe tbody tr th:only-of-type {\n",
       "        vertical-align: middle;\n",
       "    }\n",
       "\n",
       "    .dataframe tbody tr th {\n",
       "        vertical-align: top;\n",
       "    }\n",
       "\n",
       "    .dataframe thead th {\n",
       "        text-align: right;\n",
       "    }\n",
       "</style>\n",
       "<table border=\"1\" class=\"dataframe\">\n",
       "  <thead>\n",
       "    <tr style=\"text-align: right;\">\n",
       "      <th></th>\n",
       "      <th>userId</th>\n",
       "      <th>movieId</th>\n",
       "      <th>rating</th>\n",
       "    </tr>\n",
       "  </thead>\n",
       "  <tbody>\n",
       "    <tr>\n",
       "      <th>100832</th>\n",
       "      <td>610.0</td>\n",
       "      <td>168248.0</td>\n",
       "      <td>5.0</td>\n",
       "    </tr>\n",
       "    <tr>\n",
       "      <th>100833</th>\n",
       "      <td>610.0</td>\n",
       "      <td>168250.0</td>\n",
       "      <td>5.0</td>\n",
       "    </tr>\n",
       "    <tr>\n",
       "      <th>100834</th>\n",
       "      <td>610.0</td>\n",
       "      <td>168252.0</td>\n",
       "      <td>5.0</td>\n",
       "    </tr>\n",
       "    <tr>\n",
       "      <th>100835</th>\n",
       "      <td>610.0</td>\n",
       "      <td>170875.0</td>\n",
       "      <td>3.0</td>\n",
       "    </tr>\n",
       "    <tr>\n",
       "      <th>100836</th>\n",
       "      <td>611.0</td>\n",
       "      <td>193610.0</td>\n",
       "      <td>1.0</td>\n",
       "    </tr>\n",
       "  </tbody>\n",
       "</table>\n",
       "</div>"
      ],
      "text/plain": [
       "        userId   movieId  rating\n",
       "100832   610.0  168248.0     5.0\n",
       "100833   610.0  168250.0     5.0\n",
       "100834   610.0  168252.0     5.0\n",
       "100835   610.0  170875.0     3.0\n",
       "100836   611.0  193610.0     1.0"
      ]
     },
     "metadata": {},
     "output_type": "display_data"
    },
    {
     "data": {
      "text/html": [
       "<div>\n",
       "<style scoped>\n",
       "    .dataframe tbody tr th:only-of-type {\n",
       "        vertical-align: middle;\n",
       "    }\n",
       "\n",
       "    .dataframe tbody tr th {\n",
       "        vertical-align: top;\n",
       "    }\n",
       "\n",
       "    .dataframe thead th {\n",
       "        text-align: right;\n",
       "    }\n",
       "</style>\n",
       "<table border=\"1\" class=\"dataframe\">\n",
       "  <thead>\n",
       "    <tr style=\"text-align: right;\">\n",
       "      <th></th>\n",
       "      <th>movieId</th>\n",
       "      <th>title</th>\n",
       "      <th>genres</th>\n",
       "    </tr>\n",
       "  </thead>\n",
       "  <tbody>\n",
       "    <tr>\n",
       "      <th>9738</th>\n",
       "      <td>193583</td>\n",
       "      <td>No Game No Life: Zero (2017)</td>\n",
       "      <td>animation|comedy|fantasy</td>\n",
       "    </tr>\n",
       "    <tr>\n",
       "      <th>9739</th>\n",
       "      <td>193585</td>\n",
       "      <td>Flint (2017)</td>\n",
       "      <td>drama</td>\n",
       "    </tr>\n",
       "    <tr>\n",
       "      <th>9740</th>\n",
       "      <td>193587</td>\n",
       "      <td>Bungo Stray Dogs: Dead Apple (2018)</td>\n",
       "      <td>action|animation</td>\n",
       "    </tr>\n",
       "    <tr>\n",
       "      <th>9741</th>\n",
       "      <td>193609</td>\n",
       "      <td>Andrew Dice Clay: Dice Rules (1991)</td>\n",
       "      <td>comedy</td>\n",
       "    </tr>\n",
       "    <tr>\n",
       "      <th>9742</th>\n",
       "      <td>193610</td>\n",
       "      <td>Movie Example Movie v2</td>\n",
       "      <td>Action</td>\n",
       "    </tr>\n",
       "  </tbody>\n",
       "</table>\n",
       "</div>"
      ],
      "text/plain": [
       "      movieId                                title                    genres\n",
       "9738   193583         No Game No Life: Zero (2017)  animation|comedy|fantasy\n",
       "9739   193585                         Flint (2017)                     drama\n",
       "9740   193587  Bungo Stray Dogs: Dead Apple (2018)          action|animation\n",
       "9741   193609  Andrew Dice Clay: Dice Rules (1991)                    comedy\n",
       "9742   193610               Movie Example Movie v2                    Action"
      ]
     },
     "metadata": {},
     "output_type": "display_data"
    }
   ],
   "source": [
    "new_review = {'user_id': None, 'movie_id': None, 'title': 'Movie Example Movie v2' , 'genre':'Action', 'rating': 1.0}\n",
    "new_df, new_movies = hp.add_review(new_review, ratings,movies)\n",
    "display(new_df.tail(), new_movies.tail())"
   ]
  },
  {
   "cell_type": "markdown",
   "metadata": {},
   "source": [
    "## Limitations\n",
    "This model isn't without its limitations as several aspects make the model less effective.\n",
    "\n",
    "1. The distrubition is **skewed to the left** with many of the ratings are higher than 3 with **few rated between 0 - 2.5**. This can be contributed to the fact that many people won't leave reviews unprompted.\n",
    "2. The model doesn't have anything to combat review bombing which has happened to many movies recently to **negatively impact the movie's performance**. This can be difficult since it's hard to distinguish between actually truthful ratings or not. \n",
    "3. There were **many ratings from the same users**. There can be a **bias** between users especially when the majority of the ratings are from them. These users could also be critics that may be very helpful to the average moviegoer. "
   ]
  },
  {
   "cell_type": "markdown",
   "metadata": {},
   "source": [
    "## Recommendations\n",
    "There are also some ways to improve the model that can be added to the project to further the accuracy for users.\n",
    "\n",
    "1. The movie dataset had genres as a column. A previous project shows that **certain combinations perform better at the box office**. If we can incorporate this in the model and know what the users' favorite genres are. \n",
    "2. **More data will improve the model**. There was a bigger dataset that was also created and could be used, with enough time, for a better model. \n",
    "3. The data should include more ratings with a **wider range of ratings** from the users. Ideally should be a bell curve depending on if an equal number of bad and good movies are included in the movies list. "
   ]
  },
  {
   "cell_type": "markdown",
   "metadata": {},
   "source": [
    "## Cold Starts\n",
    "There are 2 cold starts scienoi when dealing with recommendation systems.\n",
    "If a new user is added to the system, how would the system suggest recommendations. \n",
    "If a new movie is added to the system, how would the system suggest the movie to users. "
   ]
  },
  {
   "cell_type": "markdown",
   "metadata": {},
   "source": [
    "For a new user, we can recommend them with the highest rated movie or the most rated movie to be recommended. We can also have the user give more information such as a know movie they watched and that rating or a given genre that the user likes. For this project, I can recommend the most rated movie, or the most review movie. Each have there advantage and disadvange and have there uses if label properly on websites.  "
   ]
  },
  {
   "cell_type": "code",
   "execution_count": 31,
   "metadata": {},
   "outputs": [
    {
     "name": "stdout",
     "output_type": "stream",
     "text": [
      "New User Detected. Average top rated movies are as followed\n"
     ]
    },
    {
     "data": {
      "text/plain": [
       "7656    Paper Birds (Pájaros de papel) (2010)\n",
       "8107               Act of Killing, The (2012)\n",
       "9083                          Jump In! (2007)\n",
       "9094                             Human (2015)\n",
       "9096                      L.A. Slasher (2015)\n",
       "Name: title, dtype: object"
      ]
     },
     "metadata": {},
     "output_type": "display_data"
    },
    {
     "data": {
      "text/plain": [
       "257                  Pulp Fiction (1994)\n",
       "277     Shawshank Redemption, The (1994)\n",
       "314                  Forrest Gump (1994)\n",
       "510     Silence of the Lambs, The (1991)\n",
       "1939                  Matrix, The (1999)\n",
       "Name: title, dtype: object"
      ]
     },
     "execution_count": 31,
     "metadata": {},
     "output_type": "execute_result"
    }
   ],
   "source": [
    "## Recommend the most rated movies without any distinguish ## \n",
    "hp.user_top_5(movies= movies, review_df= ratings)\n",
    "## OR ## \n",
    "\n",
    "## Recommend the most reviewed movies from all of the avaiable users currently ## \n",
    "movies[movies['movieId'].isin(ratings[['movieId', 'userId']].groupby('movieId').count().sort_values('userId', ascending = False).index[0:5])]['title']"
   ]
  },
  {
   "cell_type": "markdown",
   "metadata": {},
   "source": [
    "| Most Rated Movies | Most Popular Movies |\n",
    "|---|---|\n",
    "| Paper Birds (Pájaros de papel) (2010) | Pulp Fiction (1994) |\n",
    "| Act of Killing, The (2012) | Shawshank Redemption, The (1994) |\n",
    "| Jump In! (2007) | Forrest Gump (1994) |\n",
    "| Human (2015) | Silence of the Lambs, The (1991) |\n",
    "| L.A. Slasher (2015) | Matrix, The (1999) |"
   ]
  },
  {
   "cell_type": "markdown",
   "metadata": {},
   "source": [
    "For a new movie, we need to implement the movie in the system and be able to recommend it to users. \n",
    "We will use the movies dataset to help decide the rating for the movie and if is should be rated. In order to compare other movies, we used their genres to obtain a average rating. "
   ]
  },
  {
   "cell_type": "markdown",
   "metadata": {},
   "source": [
    "New Movie"
   ]
  },
  {
   "cell_type": "code",
   "execution_count": 32,
   "metadata": {},
   "outputs": [
    {
     "name": "stdout",
     "output_type": "stream",
     "text": [
      "Genre Detected: action\n"
     ]
    },
    {
     "data": {
      "text/plain": [
       "2.935483870967742"
      ]
     },
     "execution_count": 32,
     "metadata": {},
     "output_type": "execute_result"
    }
   ],
   "source": [
    "hp.new_movie('action', movies, ratings)"
   ]
  },
  {
   "cell_type": "code",
   "execution_count": 33,
   "metadata": {},
   "outputs": [
    {
     "data": {
      "text/plain": [
       "action|adventure|sci-fi      11\n",
       "comedy                       11\n",
       "action|adventure|thriller     8\n",
       "action|drama|war              8\n",
       "comedy|drama                  6\n",
       "Name: genres, dtype: int64"
      ]
     },
     "execution_count": 33,
     "metadata": {},
     "output_type": "execute_result"
    }
   ],
   "source": [
    "movies.loc[movies['movieId'].isin(ratings.loc[ratings['userId'] == 1]['movieId'].values)]['genres'].value_counts()[0:5]"
   ]
  },
  {
   "cell_type": "code",
   "execution_count": 49,
   "metadata": {},
   "outputs": [],
   "source": [
    "def get_genres(id_list, movies_list):\n",
    "    '''\n",
    "    Grab genres from a list of movie IDs and return the unique list of genres\n",
    "    ______________________________\n",
    "    Input - id_list (list) \n",
    "          - movies_list (Dataframe) \n",
    "    Output - list (list) \n",
    "    ______________________________\n",
    "    '''\n",
    "    return movies_list.loc[movies_list['movieId'].isin(id_list)].genres.unique()"
   ]
  },
  {
   "cell_type": "code",
   "execution_count": 52,
   "metadata": {},
   "outputs": [],
   "source": [
    "user_1_top_genres = get_genres(ratings.loc[ratings['userId']==1].sort_values('rating', ascending = False)[0:5]['movieId'].values, movies)"
   ]
  },
  {
   "cell_type": "code",
   "execution_count": 53,
   "metadata": {},
   "outputs": [
    {
     "data": {
      "text/plain": [
       "array(['action|adventure', 'drama|musical', 'adventure|fantasy',\n",
       "       'action|adventure|thriller', 'comedy|drama|war'], dtype=object)"
      ]
     },
     "execution_count": 53,
     "metadata": {},
     "output_type": "execute_result"
    }
   ],
   "source": [
    "user_1_top_genres"
   ]
  },
  {
   "cell_type": "code",
   "execution_count": 84,
   "metadata": {},
   "outputs": [],
   "source": []
  },
  {
   "cell_type": "code",
   "execution_count": 89,
   "metadata": {},
   "outputs": [
    {
     "data": {
      "text/plain": [
       "596     Ghost in the Shell (Kôkaku kidôtai) (1995)\n",
       "681                     Singin' in the Rain (1952)\n",
       "711                               Notorious (1946)\n",
       "8995                                Sicario (2015)\n",
       "9162                         Big Short, The (2015)\n",
       "Name: title, dtype: object"
      ]
     },
     "execution_count": 89,
     "metadata": {},
     "output_type": "execute_result"
    }
   ],
   "source": []
  },
  {
   "cell_type": "code",
   "execution_count": null,
   "metadata": {},
   "outputs": [],
   "source": []
  }
 ],
 "metadata": {
  "kernelspec": {
   "display_name": "Python 3",
   "language": "python",
   "name": "python3"
  },
  "language_info": {
   "codemirror_mode": {
    "name": "ipython",
    "version": 3
   },
   "file_extension": ".py",
   "mimetype": "text/x-python",
   "name": "python",
   "nbconvert_exporter": "python",
   "pygments_lexer": "ipython3",
   "version": "3.8.5"
  }
 },
 "nbformat": 4,
 "nbformat_minor": 4
}

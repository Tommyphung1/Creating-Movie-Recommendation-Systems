{
 "cells": [
  {
   "cell_type": "markdown",
   "metadata": {},
   "source": [
    "The **KnnBaseline** performed the best out of all the models for the memory based algorithm. "
   ]
  },
  {
   "cell_type": "markdown",
   "metadata": {},
   "source": [
    "**Knn Baseline** perform **slightly better** than the SVD method so we will use that for our model."
   ]
  },
  {
   "cell_type": "code",
   "execution_count": null,
   "metadata": {},
   "outputs": [
    {
     "data": {
      "text/plain": [
       "array(['Shawshank Redemption, The (1994)',\n",
       "       'Ghost in the Shell (Kôkaku kidôtai) (1995)',\n",
       "       'Dr. Strangelove or: How I Learned to Stop Worrying and Love the Bomb (1964)',\n",
       "       'Sunset Blvd. (a.k.a. Sunset Boulevard) (1950)',\n",
       "       'Boot, Das (Boat, The) (1981)'], dtype=object)"
      ]
     },
     "execution_count": 21,
     "metadata": {},
     "output_type": "execute_result"
    }
   ],
   "source": [
    "final_df = hp.create_ranked_df(user_user, item_item, movies)\n",
    "final_df['Movie Id'][0:5].values"
   ]
  },
  {
   "cell_type": "markdown",
   "metadata": {},
   "source": [
    "## Different Approachs\n",
    "Assuming that the two models combined will give a better accuracy than model individually, we can make a rating system that takes the average of the two ratings and potentially get a close rating for the test set from before. \n",
    "\n",
    "Another approach was to use content filtering and use the users previous prefered genres from the movies they rated highly on. Their is no way to know that a user would like them, but we can assume that a user would like similar genres over others listed. "
   ]
  },
  {
   "cell_type": "code",
   "execution_count": 16,
   "metadata": {},
   "outputs": [
    {
     "data": {
      "text/plain": [
       "(254     Léon: The Professional (a.k.a. The Professiona...\n",
       " 257                                   Pulp Fiction (1994)\n",
       " 1939                                   Matrix, The (1999)\n",
       " 2226                                    Fight Club (1999)\n",
       " 3141                                       Memento (2000)\n",
       " Name: title, dtype: object,\n",
       " 585     Wallace & Gromit: The Best of Aardman Animatio...\n",
       " 883                                 Paths of Glory (1957)\n",
       " 1725                                     Happiness (1998)\n",
       " 2582                  Guess Who's Coming to Dinner (1967)\n",
       " 3087        In the Mood For Love (Fa yeung nin wa) (2000)\n",
       " Name: title, dtype: object)"
      ]
     },
     "execution_count": 16,
     "metadata": {},
     "output_type": "execute_result"
    }
   ],
   "source": [
    "### Cases ###\n",
    "# 1. A new user is detected and display top 5 movies from the current ratings. \n",
    "# Does not use model since there is nothing to go off from \n",
    "# user_top_5(review_df= ratings)\n",
    "\n",
    "# 2. User exist and have movies watched\n",
    "# Return the list of movies with the ranking. \n",
    "top_5_1 = hp.user_top_5(knn_baseline,ratings, user_id = 3, movies= movies)\n",
    "top_5_1_title = hp.id_title([ID[0] for ID in top_5_1[0:5]], movies)\n",
    "\n",
    "# 3. User exist and have movies watched\n",
    "# Return the list of movies with the ranking. \n",
    "top_5_593 = hp.user_top_5(knn_baseline,ratings, user_id = 593, movies= movies)\n",
    "top_5_593_title = hp.id_title([ID[0] for ID in top_5_593[0:5]], movies)\n",
    "\n",
    "top_5_1_title, top_5_593_title"
   ]
  },
  {
   "cell_type": "markdown",
   "metadata": {
    "tags": []
   },
   "source": [
    "### Final Movies Recommendation \n",
    "Some of the movies were in the top movies list in their list of movies. Based on the ratings and rank we given, some movies was movies were movied up and down which ideally give the best movies to user 1. "
   ]
  },
  {
   "cell_type": "code",
   "execution_count": 26,
   "metadata": {},
   "outputs": [
    {
     "data": {
      "text/plain": [
       "0.8715940464071135"
      ]
     },
     "execution_count": 26,
     "metadata": {},
     "output_type": "execute_result"
    }
   ],
   "source": []
  },
  {
   "cell_type": "markdown",
   "metadata": {},
   "source": [
    "### Examples\n",
    "Test cases on new users and new movies to handle cold starts and add new movies whenever a user is reviewing a new movie. "
   ]
  },
  {
   "cell_type": "markdown",
   "metadata": {},
   "source": [
    "**Case 1:** A new user wants recommendation to start watching movies <br>\n",
    "**Results:** Recommends the top average movie tiltes from all ratings\n",
    "\n",
    "A **new user** with a invalid user ID or no given ID will be recommended **5 of the top movies**. "
   ]
  },
  {
   "cell_type": "code",
   "execution_count": null,
   "metadata": {},
   "outputs": [],
   "source": []
  },
  {
   "cell_type": "markdown",
   "metadata": {},
   "source": [
    "**Case 2:** A user rated an existing movie in the list <br>\n",
    "**Results:** Add a rating in the 'Ratings' dataset with the user ID, Movid Id and rating.\n",
    "\n",
    "**User 11** reviews the movie ID, **1**, with the rating of **4.5**. "
   ]
  },
  {
   "cell_type": "code",
   "execution_count": 27,
   "metadata": {},
   "outputs": [
    {
     "data": {
      "text/html": [
       "<div>\n",
       "<style scoped>\n",
       "    .dataframe tbody tr th:only-of-type {\n",
       "        vertical-align: middle;\n",
       "    }\n",
       "\n",
       "    .dataframe tbody tr th {\n",
       "        vertical-align: top;\n",
       "    }\n",
       "\n",
       "    .dataframe thead th {\n",
       "        text-align: right;\n",
       "    }\n",
       "</style>\n",
       "<table border=\"1\" class=\"dataframe\">\n",
       "  <thead>\n",
       "    <tr style=\"text-align: right;\">\n",
       "      <th></th>\n",
       "      <th>userId</th>\n",
       "      <th>movieId</th>\n",
       "      <th>rating</th>\n",
       "    </tr>\n",
       "  </thead>\n",
       "  <tbody>\n",
       "    <tr>\n",
       "      <th>100832</th>\n",
       "      <td>610.0</td>\n",
       "      <td>168248.0</td>\n",
       "      <td>5.0</td>\n",
       "    </tr>\n",
       "    <tr>\n",
       "      <th>100833</th>\n",
       "      <td>610.0</td>\n",
       "      <td>168250.0</td>\n",
       "      <td>5.0</td>\n",
       "    </tr>\n",
       "    <tr>\n",
       "      <th>100834</th>\n",
       "      <td>610.0</td>\n",
       "      <td>168252.0</td>\n",
       "      <td>5.0</td>\n",
       "    </tr>\n",
       "    <tr>\n",
       "      <th>100835</th>\n",
       "      <td>610.0</td>\n",
       "      <td>170875.0</td>\n",
       "      <td>3.0</td>\n",
       "    </tr>\n",
       "    <tr>\n",
       "      <th>100836</th>\n",
       "      <td>11.0</td>\n",
       "      <td>1.0</td>\n",
       "      <td>4.5</td>\n",
       "    </tr>\n",
       "  </tbody>\n",
       "</table>\n",
       "</div>"
      ],
      "text/plain": [
       "        userId   movieId  rating\n",
       "100832   610.0  168248.0     5.0\n",
       "100833   610.0  168250.0     5.0\n",
       "100834   610.0  168252.0     5.0\n",
       "100835   610.0  170875.0     3.0\n",
       "100836    11.0       1.0     4.5"
      ]
     },
     "execution_count": 27,
     "metadata": {},
     "output_type": "execute_result"
    }
   ],
   "source": [
    "new_review = {'user_id': 11, 'movie_id': 1 , 'rating': 4.5}\n",
    "new_df, new_movies = hp.add_review(new_review, ratings,movies)\n",
    "new_df.tail()"
   ]
  },
  {
   "cell_type": "markdown",
   "metadata": {},
   "source": [
    "**Case 3:** A new user rated an existing movie in the list\n",
    "Results: Give the user a new ID and add a rating in the 'Ratings' dataset with the user ID, Movid Id and rating.\n",
    "\n",
    "A **new user** is assigned a new ID number and rate thhe movie, **304** with a rating **3.0**"
   ]
  },
  {
   "cell_type": "code",
   "execution_count": 28,
   "metadata": {},
   "outputs": [
    {
     "name": "stdout",
     "output_type": "stream",
     "text": [
      "New user number assignment: 611\n"
     ]
    },
    {
     "data": {
      "text/html": [
       "<div>\n",
       "<style scoped>\n",
       "    .dataframe tbody tr th:only-of-type {\n",
       "        vertical-align: middle;\n",
       "    }\n",
       "\n",
       "    .dataframe tbody tr th {\n",
       "        vertical-align: top;\n",
       "    }\n",
       "\n",
       "    .dataframe thead th {\n",
       "        text-align: right;\n",
       "    }\n",
       "</style>\n",
       "<table border=\"1\" class=\"dataframe\">\n",
       "  <thead>\n",
       "    <tr style=\"text-align: right;\">\n",
       "      <th></th>\n",
       "      <th>userId</th>\n",
       "      <th>movieId</th>\n",
       "      <th>rating</th>\n",
       "    </tr>\n",
       "  </thead>\n",
       "  <tbody>\n",
       "    <tr>\n",
       "      <th>100832</th>\n",
       "      <td>610.0</td>\n",
       "      <td>168248.0</td>\n",
       "      <td>5.0</td>\n",
       "    </tr>\n",
       "    <tr>\n",
       "      <th>100833</th>\n",
       "      <td>610.0</td>\n",
       "      <td>168250.0</td>\n",
       "      <td>5.0</td>\n",
       "    </tr>\n",
       "    <tr>\n",
       "      <th>100834</th>\n",
       "      <td>610.0</td>\n",
       "      <td>168252.0</td>\n",
       "      <td>5.0</td>\n",
       "    </tr>\n",
       "    <tr>\n",
       "      <th>100835</th>\n",
       "      <td>610.0</td>\n",
       "      <td>170875.0</td>\n",
       "      <td>3.0</td>\n",
       "    </tr>\n",
       "    <tr>\n",
       "      <th>100836</th>\n",
       "      <td>611.0</td>\n",
       "      <td>304.0</td>\n",
       "      <td>3.0</td>\n",
       "    </tr>\n",
       "  </tbody>\n",
       "</table>\n",
       "</div>"
      ],
      "text/plain": [
       "        userId   movieId  rating\n",
       "100832   610.0  168248.0     5.0\n",
       "100833   610.0  168250.0     5.0\n",
       "100834   610.0  168252.0     5.0\n",
       "100835   610.0  170875.0     3.0\n",
       "100836   611.0     304.0     3.0"
      ]
     },
     "execution_count": 28,
     "metadata": {},
     "output_type": "execute_result"
    }
   ],
   "source": [
    "new_review = {'user_id': None, 'movie_id': 304, 'title':None , 'genre':None, 'rating': 3.0}\n",
    "new_df, new_movies = hp.add_review(new_review, ratings,movies)\n",
    "new_df.tail()"
   ]
  },
  {
   "cell_type": "markdown",
   "metadata": {},
   "source": [
    "**Case 4:** A user rated a new movie in the list <br>\n",
    "**Results:** Add a new movie ID, title and genre to the movies list and add a rating in the 'Ratings' dataset with the user ID, new Movid Id and rating.\n",
    "\n",
    "**User 501** wants to add a **new movie** with the rating of **1.0**"
   ]
  },
  {
   "cell_type": "code",
   "execution_count": 29,
   "metadata": {},
   "outputs": [
    {
     "data": {
      "text/html": [
       "<div>\n",
       "<style scoped>\n",
       "    .dataframe tbody tr th:only-of-type {\n",
       "        vertical-align: middle;\n",
       "    }\n",
       "\n",
       "    .dataframe tbody tr th {\n",
       "        vertical-align: top;\n",
       "    }\n",
       "\n",
       "    .dataframe thead th {\n",
       "        text-align: right;\n",
       "    }\n",
       "</style>\n",
       "<table border=\"1\" class=\"dataframe\">\n",
       "  <thead>\n",
       "    <tr style=\"text-align: right;\">\n",
       "      <th></th>\n",
       "      <th>movieId</th>\n",
       "      <th>title</th>\n",
       "      <th>genres</th>\n",
       "    </tr>\n",
       "  </thead>\n",
       "  <tbody>\n",
       "    <tr>\n",
       "      <th>9738</th>\n",
       "      <td>193583</td>\n",
       "      <td>No Game No Life: Zero (2017)</td>\n",
       "      <td>animation|comedy|fantasy</td>\n",
       "    </tr>\n",
       "    <tr>\n",
       "      <th>9739</th>\n",
       "      <td>193585</td>\n",
       "      <td>Flint (2017)</td>\n",
       "      <td>drama</td>\n",
       "    </tr>\n",
       "    <tr>\n",
       "      <th>9740</th>\n",
       "      <td>193587</td>\n",
       "      <td>Bungo Stray Dogs: Dead Apple (2018)</td>\n",
       "      <td>action|animation</td>\n",
       "    </tr>\n",
       "    <tr>\n",
       "      <th>9741</th>\n",
       "      <td>193609</td>\n",
       "      <td>Andrew Dice Clay: Dice Rules (1991)</td>\n",
       "      <td>comedy</td>\n",
       "    </tr>\n",
       "    <tr>\n",
       "      <th>9742</th>\n",
       "      <td>193610</td>\n",
       "      <td>Movie Example Movie</td>\n",
       "      <td>Action</td>\n",
       "    </tr>\n",
       "  </tbody>\n",
       "</table>\n",
       "</div>"
      ],
      "text/plain": [
       "      movieId                                title                    genres\n",
       "9738   193583         No Game No Life: Zero (2017)  animation|comedy|fantasy\n",
       "9739   193585                         Flint (2017)                     drama\n",
       "9740   193587  Bungo Stray Dogs: Dead Apple (2018)          action|animation\n",
       "9741   193609  Andrew Dice Clay: Dice Rules (1991)                    comedy\n",
       "9742   193610                  Movie Example Movie                    Action"
      ]
     },
     "execution_count": 29,
     "metadata": {},
     "output_type": "execute_result"
    }
   ],
   "source": [
    "new_review = {'user_id': 501, 'movie_id': None, 'title': 'Movie Example Movie' , 'genre':'Action', 'rating': 1.0}\n",
    "new_df, new_movies = hp.add_review(new_review, ratings,movies)\n",
    "new_df.tail()\n",
    "new_movies.tail()"
   ]
  },
  {
   "cell_type": "markdown",
   "metadata": {},
   "source": [
    "**Case 5:** A new user rated a new movie in the list <br>\n",
    "**Results:** Give the user a new ID, add a new movie ID, title and genre to the movies list and add a rating in the 'Ratings' dataset with the new user ID, new Movid Id and rating."
   ]
  },
  {
   "cell_type": "code",
   "execution_count": 30,
   "metadata": {},
   "outputs": [
    {
     "name": "stdout",
     "output_type": "stream",
     "text": [
      "New user number assignment: 611\n"
     ]
    },
    {
     "data": {
      "text/html": [
       "<div>\n",
       "<style scoped>\n",
       "    .dataframe tbody tr th:only-of-type {\n",
       "        vertical-align: middle;\n",
       "    }\n",
       "\n",
       "    .dataframe tbody tr th {\n",
       "        vertical-align: top;\n",
       "    }\n",
       "\n",
       "    .dataframe thead th {\n",
       "        text-align: right;\n",
       "    }\n",
       "</style>\n",
       "<table border=\"1\" class=\"dataframe\">\n",
       "  <thead>\n",
       "    <tr style=\"text-align: right;\">\n",
       "      <th></th>\n",
       "      <th>userId</th>\n",
       "      <th>movieId</th>\n",
       "      <th>rating</th>\n",
       "    </tr>\n",
       "  </thead>\n",
       "  <tbody>\n",
       "    <tr>\n",
       "      <th>100832</th>\n",
       "      <td>610.0</td>\n",
       "      <td>168248.0</td>\n",
       "      <td>5.0</td>\n",
       "    </tr>\n",
       "    <tr>\n",
       "      <th>100833</th>\n",
       "      <td>610.0</td>\n",
       "      <td>168250.0</td>\n",
       "      <td>5.0</td>\n",
       "    </tr>\n",
       "    <tr>\n",
       "      <th>100834</th>\n",
       "      <td>610.0</td>\n",
       "      <td>168252.0</td>\n",
       "      <td>5.0</td>\n",
       "    </tr>\n",
       "    <tr>\n",
       "      <th>100835</th>\n",
       "      <td>610.0</td>\n",
       "      <td>170875.0</td>\n",
       "      <td>3.0</td>\n",
       "    </tr>\n",
       "    <tr>\n",
       "      <th>100836</th>\n",
       "      <td>611.0</td>\n",
       "      <td>193610.0</td>\n",
       "      <td>1.0</td>\n",
       "    </tr>\n",
       "  </tbody>\n",
       "</table>\n",
       "</div>"
      ],
      "text/plain": [
       "        userId   movieId  rating\n",
       "100832   610.0  168248.0     5.0\n",
       "100833   610.0  168250.0     5.0\n",
       "100834   610.0  168252.0     5.0\n",
       "100835   610.0  170875.0     3.0\n",
       "100836   611.0  193610.0     1.0"
      ]
     },
     "metadata": {},
     "output_type": "display_data"
    },
    {
     "data": {
      "text/html": [
       "<div>\n",
       "<style scoped>\n",
       "    .dataframe tbody tr th:only-of-type {\n",
       "        vertical-align: middle;\n",
       "    }\n",
       "\n",
       "    .dataframe tbody tr th {\n",
       "        vertical-align: top;\n",
       "    }\n",
       "\n",
       "    .dataframe thead th {\n",
       "        text-align: right;\n",
       "    }\n",
       "</style>\n",
       "<table border=\"1\" class=\"dataframe\">\n",
       "  <thead>\n",
       "    <tr style=\"text-align: right;\">\n",
       "      <th></th>\n",
       "      <th>movieId</th>\n",
       "      <th>title</th>\n",
       "      <th>genres</th>\n",
       "    </tr>\n",
       "  </thead>\n",
       "  <tbody>\n",
       "    <tr>\n",
       "      <th>9738</th>\n",
       "      <td>193583</td>\n",
       "      <td>No Game No Life: Zero (2017)</td>\n",
       "      <td>animation|comedy|fantasy</td>\n",
       "    </tr>\n",
       "    <tr>\n",
       "      <th>9739</th>\n",
       "      <td>193585</td>\n",
       "      <td>Flint (2017)</td>\n",
       "      <td>drama</td>\n",
       "    </tr>\n",
       "    <tr>\n",
       "      <th>9740</th>\n",
       "      <td>193587</td>\n",
       "      <td>Bungo Stray Dogs: Dead Apple (2018)</td>\n",
       "      <td>action|animation</td>\n",
       "    </tr>\n",
       "    <tr>\n",
       "      <th>9741</th>\n",
       "      <td>193609</td>\n",
       "      <td>Andrew Dice Clay: Dice Rules (1991)</td>\n",
       "      <td>comedy</td>\n",
       "    </tr>\n",
       "    <tr>\n",
       "      <th>9742</th>\n",
       "      <td>193610</td>\n",
       "      <td>Movie Example Movie v2</td>\n",
       "      <td>Action</td>\n",
       "    </tr>\n",
       "  </tbody>\n",
       "</table>\n",
       "</div>"
      ],
      "text/plain": [
       "      movieId                                title                    genres\n",
       "9738   193583         No Game No Life: Zero (2017)  animation|comedy|fantasy\n",
       "9739   193585                         Flint (2017)                     drama\n",
       "9740   193587  Bungo Stray Dogs: Dead Apple (2018)          action|animation\n",
       "9741   193609  Andrew Dice Clay: Dice Rules (1991)                    comedy\n",
       "9742   193610               Movie Example Movie v2                    Action"
      ]
     },
     "metadata": {},
     "output_type": "display_data"
    }
   ],
   "source": [
    "new_review = {'user_id': None, 'movie_id': None, 'title': 'Movie Example Movie v2' , 'genre':'Action', 'rating': 1.0}\n",
    "new_df, new_movies = hp.add_review(new_review, ratings,movies)\n",
    "display(new_df.tail(), new_movies.tail())"
   ]
  },
  {
   "cell_type": "markdown",
   "metadata": {},
   "source": [
    "New Movie"
   ]
  }
 ],
 "metadata": {
  "kernelspec": {
   "display_name": "Python 3",
   "language": "python",
   "name": "python3"
  },
  "language_info": {
   "codemirror_mode": {
    "name": "ipython",
    "version": 3
   },
   "file_extension": ".py",
   "mimetype": "text/x-python",
   "name": "python",
   "nbconvert_exporter": "python",
   "pygments_lexer": "ipython3",
   "version": "3.8.5"
  }
 },
 "nbformat": 4,
 "nbformat_minor": 4
}

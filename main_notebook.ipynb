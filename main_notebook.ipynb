{
 "cells": [
  {
   "cell_type": "markdown",
   "metadata": {
    "tags": []
   },
   "source": [
    "# Project 4 Project\n",
    "## Recommendations of Movies"
   ]
  },
  {
   "cell_type": "markdown",
   "metadata": {},
   "source": [
    "There are more than millions of movies made since first introducted but limited time  to see the movies people would like. In order to help consumers save time and money, recommendations are made to make selection easier. To make these recommendation, we will be using a dataset of roughly 10,000 movie entries inorder to predict that a user would rate a given movie higher with those with users with similar reviews on said movie.   "
   ]
  },
  {
   "cell_type": "code",
   "execution_count": 1,
   "metadata": {},
   "outputs": [],
   "source": [
    "### Read all the dataset and load them in with proper names ###\n",
    "### Links were not used for this project ###\n",
    "\n",
    "import pandas as pd\n",
    "movies = pd.read_csv('ml-latest-small/movies.csv')\n",
    "ratings = pd.read_csv('ml-latest-small/ratings.csv')\n",
    "tags = pd.read_csv('ml-latest-small/tags.csv')\n",
    "\n",
    "# links = pd.read_csv('ml-latest-small/links.csv') "
   ]
  },
  {
   "cell_type": "markdown",
   "metadata": {},
   "source": [
    "### Exploration Information\n",
    "* There are 9742 movies in the dataset\n",
    "* There are 100836 ratings and 610 users \n",
    "* There are 58 users that make up the 3683 tags added\n",
    "* Genres are separated by | if there are more than one\n",
    "\n",
    "User to User filtering since there are fewer users than items in the dataset. "
   ]
  },
  {
   "cell_type": "code",
   "execution_count": 2,
   "metadata": {},
   "outputs": [
    {
     "name": "stdout",
     "output_type": "stream",
     "text": [
      "<class 'pandas.core.frame.DataFrame'>\n",
      "RangeIndex: 9742 entries, 0 to 9741\n",
      "Data columns (total 3 columns):\n",
      " #   Column   Non-Null Count  Dtype \n",
      "---  ------   --------------  ----- \n",
      " 0   movieId  9742 non-null   int64 \n",
      " 1   title    9742 non-null   object\n",
      " 2   genres   9742 non-null   object\n",
      "dtypes: int64(1), object(2)\n",
      "memory usage: 228.5+ KB\n"
     ]
    }
   ],
   "source": [
    "movies.info()"
   ]
  },
  {
   "cell_type": "code",
   "execution_count": 3,
   "metadata": {},
   "outputs": [
    {
     "name": "stdout",
     "output_type": "stream",
     "text": [
      "<class 'pandas.core.frame.DataFrame'>\n",
      "RangeIndex: 100836 entries, 0 to 100835\n",
      "Data columns (total 4 columns):\n",
      " #   Column     Non-Null Count   Dtype  \n",
      "---  ------     --------------   -----  \n",
      " 0   userId     100836 non-null  int64  \n",
      " 1   movieId    100836 non-null  int64  \n",
      " 2   rating     100836 non-null  float64\n",
      " 3   timestamp  100836 non-null  int64  \n",
      "dtypes: float64(1), int64(3)\n",
      "memory usage: 3.1 MB\n"
     ]
    }
   ],
   "source": [
    "ratings.info()"
   ]
  },
  {
   "cell_type": "markdown",
   "metadata": {},
   "source": [
    "## Data Preperations"
   ]
  },
  {
   "cell_type": "code",
   "execution_count": 4,
   "metadata": {},
   "outputs": [],
   "source": [
    "ratings.drop('timestamp', axis = 1, inplace = True)"
   ]
  },
  {
   "cell_type": "code",
   "execution_count": 5,
   "metadata": {},
   "outputs": [],
   "source": [
    "from surprise import Reader, Dataset\n",
    "from surprise.model_selection import train_test_split\n",
    "\n",
    "reader = Reader()\n",
    "data = Dataset.load_from_df(ratings,reader)\n",
    "trainset, testset = train_test_split(data, test_size=0.3, random_state= 69)"
   ]
  },
  {
   "cell_type": "code",
   "execution_count": null,
   "metadata": {},
   "outputs": [],
   "source": [
    "from surprise.prediction_algorithms import knns\n",
    "from surprise import accuracy"
   ]
  },
  {
   "cell_type": "markdown",
   "metadata": {},
   "source": [
    "### Baseline Model with KNN Baseline "
   ]
  },
  {
   "cell_type": "code",
   "execution_count": 220,
   "metadata": {},
   "outputs": [
    {
     "name": "stdout",
     "output_type": "stream",
     "text": [
      "Computing the cosine similarity matrix...\n",
      "Done computing similarity matrix.\n",
      "RMSE: 0.9819\n",
      "0.9818952607403942\n"
     ]
    }
   ],
   "source": [
    "sim_cos = {\"name\": \"cosine\", \"user_based\": True}\n",
    "basic = knns.KNNBasic(sim_options=sim_cos)\n",
    "basic.fit(trainset)\n",
    "basic_pred = basic.test(testset)\n",
    "print(accuracy.rmse(basic_pred))"
   ]
  },
  {
   "cell_type": "markdown",
   "metadata": {},
   "source": [
    "#### Baseline Evaulation\n",
    "The rating are roughly 1 point off which is pretty large considering that the range of ratings are from 1 to 5\n",
    "This is the first model where we will see if we can imporve on it. We are focused on user to user similarities for this project. "
   ]
  },
  {
   "cell_type": "markdown",
   "metadata": {},
   "source": [
    "## Imporved Models "
   ]
  },
  {
   "cell_type": "markdown",
   "metadata": {},
   "source": [
    "### SVD algoritm\n",
    "Find the best parameters for SVD algorithms"
   ]
  },
  {
   "cell_type": "code",
   "execution_count": 208,
   "metadata": {},
   "outputs": [],
   "source": [
    "from surprise.prediction_algorithms import SVD\n",
    "from surprise.model_selection import GridSearchCV\n",
    "\n",
    "# params = {'n_factors': [20, 50, 100],\n",
    "#          'reg_all': [0.02, 0.05, 0.1],\n",
    "#           'lr_all': [.001, .002, .003, .004, .005],\n",
    "#          'random_state':[69]\n",
    "#          }\n",
    "# g_s_svd = GridSearchCV(SVD,param_grid=params,n_jobs=-1)\n",
    "# g_s_svd.fit(data)\n",
    "# g_s_svd.best_params\n",
    "\n",
    "#  {'rmse': {'n_factors': 100,\n",
    "#   'reg_all': 0.05,\n",
    "#   'lr_all': 0.005,\n",
    "#   'random_state': 69},\n",
    "#  'mae': {'n_factors': 100,\n",
    "#   'reg_all': 0.05,\n",
    "#   'lr_all': 0.005,\n",
    "#   'random_state': 69}}"
   ]
  },
  {
   "cell_type": "code",
   "execution_count": null,
   "metadata": {},
   "outputs": [],
   "source": [
    "from surprise.prediction_algorithms import KNNWithMeans, KNNBasic, KNNBaseline"
   ]
  },
  {
   "cell_type": "code",
   "execution_count": 211,
   "metadata": {},
   "outputs": [
    {
     "name": "stdout",
     "output_type": "stream",
     "text": [
      "RMSE: 0.8791\n",
      "0.8791224608358874\n"
     ]
    }
   ],
   "source": [
    "best_svd = SVD(n_factors= 20, reg_all = 0.1)\n",
    "best_svd.fit(trainset)\n",
    "svd_pred = best_svd.test(testset)\n",
    "print(accuracy.rmse(svd_pred))"
   ]
  },
  {
   "cell_type": "markdown",
   "metadata": {},
   "source": [
    "### Memory Based Methods "
   ]
  },
  {
   "cell_type": "markdown",
   "metadata": {},
   "source": [
    "#### KnnBasic"
   ]
  },
  {
   "cell_type": "code",
   "execution_count": 221,
   "metadata": {},
   "outputs": [
    {
     "name": "stdout",
     "output_type": "stream",
     "text": [
      "Computing the pearson similarity matrix...\n",
      "Done computing similarity matrix.\n",
      "RMSE: 0.9849\n",
      "0.9849105382524579\n"
     ]
    }
   ],
   "source": [
    "sim_pearson = {\"name\": \"pearson\", \"user_based\": True}\n",
    "\n",
    "basic_pearson = knns.KNNBasic(sim_options=sim_pearson)\n",
    "basic_pearson.fit(trainset)\n",
    "predictions = basic_pearson.test(testset)\n",
    "print(accuracy.rmse(predictions))   "
   ]
  },
  {
   "cell_type": "markdown",
   "metadata": {},
   "source": [
    "#### Knn With Means"
   ]
  },
  {
   "cell_type": "code",
   "execution_count": 213,
   "metadata": {},
   "outputs": [
    {
     "name": "stdout",
     "output_type": "stream",
     "text": [
      "Computing the pearson similarity matrix...\n",
      "Done computing similarity matrix.\n",
      "RMSE: 0.9088\n",
      "0.9087933637961305\n"
     ]
    }
   ],
   "source": [
    "sim_pearson = {\"name\": \"pearson\", \"user_based\": True}\n",
    "knn_means = knns.KNNWithMeans(sim_options=sim_pearson)\n",
    "knn_means.fit(trainset)\n",
    "predictions = knn_means.test(testset)\n",
    "print(accuracy.rmse(predictions))"
   ]
  },
  {
   "cell_type": "markdown",
   "metadata": {},
   "source": [
    "#### Knn Baseline "
   ]
  },
  {
   "cell_type": "code",
   "execution_count": 214,
   "metadata": {},
   "outputs": [
    {
     "name": "stdout",
     "output_type": "stream",
     "text": [
      "Estimating biases using als...\n",
      "Computing the pearson similarity matrix...\n",
      "Done computing similarity matrix.\n",
      "RMSE: 0.8893\n",
      "0.889324777085977\n"
     ]
    }
   ],
   "source": [
    "sim_pearson = {\"name\": \"pearson\", \"user_based\": True}\n",
    "knn_baseline = knns.KNNBaseline(sim_options=sim_pearson)\n",
    "knn_baseline.fit(trainset)\n",
    "predictions = knn_baseline.test(testset)\n",
    "print(accuracy.rmse(predictions))"
   ]
  },
  {
   "cell_type": "markdown",
   "metadata": {},
   "source": [
    "### KnnBaseline vs SVD"
   ]
  },
  {
   "cell_type": "code",
   "execution_count": 215,
   "metadata": {},
   "outputs": [],
   "source": [
    "clf = knns.KNNBaseline(sim_options=sim_pearson)\n",
    "params = {'k':[10, 20, 30, 40, 50],\n",
    "          'min_k': [1, 2, 3, 4],\n",
    "          'random_state':[69]\n",
    "         }\n",
    "g_s_baseline = GridSearchCV(KNNBaseline,param_grid=params,n_jobs=-1)\n",
    "g_s_baseline.fit(data)"
   ]
  },
  {
   "cell_type": "code",
   "execution_count": 216,
   "metadata": {},
   "outputs": [
    {
     "data": {
      "text/plain": [
       "{'rmse': {'k': 30, 'min_k': 4, 'random_state': 69},\n",
       " 'mae': {'k': 30, 'min_k': 4, 'random_state': 69}}"
      ]
     },
     "execution_count": 216,
     "metadata": {},
     "output_type": "execute_result"
    }
   ],
   "source": [
    "g_s_baseline.best_params"
   ]
  },
  {
   "cell_type": "code",
   "execution_count": 218,
   "metadata": {},
   "outputs": [
    {
     "name": "stdout",
     "output_type": "stream",
     "text": [
      "Estimating biases using als...\n",
      "Computing the pearson similarity matrix...\n",
      "Done computing similarity matrix.\n",
      "RMSE: 0.8776\n",
      "0.8776019532148854\n"
     ]
    }
   ],
   "source": [
    "sim_pearson = {\"name\": \"pearson\", \"user_based\": True}\n",
    "knn_baseline = knns.KNNBaseline(k = 30, min_k = 4,sim_options=sim_pearson)\n",
    "knn_baseline.fit(trainset)\n",
    "predictions = knn_baseline.test(testset)\n",
    "print(accuracy.rmse(predictions))"
   ]
  },
  {
   "cell_type": "code",
   "execution_count": 203,
   "metadata": {},
   "outputs": [
    {
     "ename": "SyntaxError",
     "evalue": "invalid syntax (<ipython-input-203-145a2eb37937>, line 11)",
     "output_type": "error",
     "traceback": [
      "\u001b[1;36m  File \u001b[1;32m\"<ipython-input-203-145a2eb37937>\"\u001b[1;36m, line \u001b[1;32m11\u001b[0m\n\u001b[1;33m    return list_of_movies\u001b[0m\n\u001b[1;37m    ^\u001b[0m\n\u001b[1;31mSyntaxError\u001b[0m\u001b[1;31m:\u001b[0m invalid syntax\n"
     ]
    }
   ],
   "source": [
    "def user_top_5(user_id):\n",
    "    if(user_id not in ratings['userId'].unique()):\n",
    "        return \"Invalid User\"\n",
    "    seen_movies = ratings['movieId'].loc[ratings['userId'] == user_id].values\n",
    "    new_movies = [movie for movie in movies.movieId.values if movie not in seen_movies]\n",
    "    predicted_ratings = []\n",
    "    for movie in new_movies:\n",
    "        predicted_ratings.append((movie, best_svd.predict(user_id, movie)[3]))\n",
    "    list_of_movies = sorted(predicted_ratings, key= lambda x: x[1], reverse= True)\n",
    "    movie_recommendations = movies['title'].loc[movies['movieId']\n",
    "    return list_of_movies\n",
    "\n",
    "def past_movies(user_id):\n",
    "    user_movies = ratings.loc[ratings['userId'] == user_id]\n",
    "    ids = [ID for ID in user_movies['movieId'].values]\n",
    "    past_movies = movies[['title', 'genres']].loc[movies['movieId'].isin(ids)]\n",
    "    return past_movies\n",
    "\n",
    "def count_genres(movie_df):\n",
    "    genres"
   ]
  },
  {
   "cell_type": "code",
   "execution_count": null,
   "metadata": {},
   "outputs": [],
   "source": [
    "user_top_5(1)"
   ]
  },
  {
   "cell_type": "code",
   "execution_count": 196,
   "metadata": {},
   "outputs": [],
   "source": [
    "movie_df = past_movies(1)\n",
    "list_genres = movie_df.genres.values"
   ]
  },
  {
   "cell_type": "code",
   "execution_count": 194,
   "metadata": {},
   "outputs": [
    {
     "data": {
      "text/plain": [
       "[('Action', 90),\n",
       " ('Adventure', 85),\n",
       " ('Comedy', 83),\n",
       " ('Drama', 68),\n",
       " ('Thriller', 55),\n",
       " ('Fantasy', 47),\n",
       " ('Crime', 45),\n",
       " ('Children', 42),\n",
       " ('Sci-Fi', 40),\n",
       " ('Animation', 29),\n",
       " ('Romance', 26),\n",
       " ('War', 22),\n",
       " ('Musical', 22),\n",
       " ('Mystery', 18),\n",
       " ('Horror', 17),\n",
       " ('Western', 7),\n",
       " ('Film-Noir', 1)]"
      ]
     },
     "execution_count": 194,
     "metadata": {},
     "output_type": "execute_result"
    }
   ],
   "source": [
    "genres = {}\n",
    "for movie in list_genres: \n",
    "    separated_genre = movie.split(sep= '|')\n",
    "    for genre in separated_genre:\n",
    "        if genres.get(genre) != None:\n",
    "            genres[genre] += 1\n",
    "        else:\n",
    "            genres[genre] = 1\n",
    "sorted(genres.items(), key= lambda x : x[1], reverse= True)"
   ]
  },
  {
   "cell_type": "code",
   "execution_count": null,
   "metadata": {},
   "outputs": [],
   "source": []
  }
 ],
 "metadata": {
  "kernelspec": {
   "display_name": "Python 3",
   "language": "python",
   "name": "python3"
  },
  "language_info": {
   "codemirror_mode": {
    "name": "ipython",
    "version": 3
   },
   "file_extension": ".py",
   "mimetype": "text/x-python",
   "name": "python",
   "nbconvert_exporter": "python",
   "pygments_lexer": "ipython3",
   "version": "3.8.5"
  }
 },
 "nbformat": 4,
 "nbformat_minor": 4
}

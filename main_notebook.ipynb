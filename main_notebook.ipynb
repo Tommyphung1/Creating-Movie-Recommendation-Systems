{
 "cells": [
  {
   "cell_type": "markdown",
   "metadata": {
    "tags": []
   },
   "source": [
    "# Project 4 Project\n",
    "## Recommendations of Movies\n",
    "![First Picture](pictures/Movie Recommendation Pict.jpg)"
   ]
  },
  {
   "cell_type": "markdown",
   "metadata": {},
   "source": [
    "## Overview \n",
    "There are more than millions of movies made since first introducted. The normal person however have limited time to watch movies in their freetime more than ever. In order to help consumers save time and money and companies give comsumers the best experience, recommendations are made to make selection easier. To make these recommendation, we will be using a dataset of roughly 10,000 movie entries inorder to predict that a user would rate a given movie higher with those with users with similar reviews on said movie. By comparing similar users and movie ratings, we should be able to recommend movies accurately.   "
   ]
  },
  {
   "cell_type": "markdown",
   "metadata": {},
   "source": [
    "## Buiness Problem\n",
    "Streaming services have made movies more accessable to user to watch movie conviently. With thousands of movies, users can feel overwelmned and more likely than not, be watching movies that they dont like. To help user experience and more likely use their services, a good recommendation system is used to help guide the user to the correct movie. "
   ]
  },
  {
   "cell_type": "markdown",
   "metadata": {},
   "source": [
    "## Data Understanding\n",
    "The movies dataset have the list of movies with the name, Id and their genres.\n",
    "The rating dataset have users reviews on movies and their ratings that the user gives. \n",
    "The tags dataset have users give tags for the movies they have watched. \n",
    "\n",
    "The data was provided by Grouplens. "
   ]
  },
  {
   "cell_type": "code",
   "execution_count": 1,
   "metadata": {},
   "outputs": [],
   "source": [
    "### Read all the dataset and load them in with proper names ###\n",
    "### Links were not used for this project ###\n",
    "\n",
    "import pandas as pd\n",
    "movies = pd.read_csv('ml-latest-small/movies.csv')\n",
    "ratings = pd.read_csv('ml-latest-small/ratings.csv')\n",
    "tags = pd.read_csv('ml-latest-small/tags.csv')\n",
    "\n",
    "# links = pd.read_csv('ml-latest-small/links.csv') "
   ]
  },
  {
   "cell_type": "markdown",
   "metadata": {
    "tags": []
   },
   "source": [
    "### Exploration Information\n",
    "* There are 9,742 movies in the dataset\n",
    "* There are 100,836 ratings and 610 users \n",
    "* There are 58 users that make up the 3,683 tags added\n",
    "* Genres are separated by | if there are more than one\n"
   ]
  },
  {
   "cell_type": "code",
   "execution_count": 2,
   "metadata": {},
   "outputs": [
    {
     "name": "stdout",
     "output_type": "stream",
     "text": [
      "<class 'pandas.core.frame.DataFrame'>\n",
      "RangeIndex: 9742 entries, 0 to 9741\n",
      "Data columns (total 3 columns):\n",
      " #   Column   Non-Null Count  Dtype \n",
      "---  ------   --------------  ----- \n",
      " 0   movieId  9742 non-null   int64 \n",
      " 1   title    9742 non-null   object\n",
      " 2   genres   9742 non-null   object\n",
      "dtypes: int64(1), object(2)\n",
      "memory usage: 228.5+ KB\n"
     ]
    }
   ],
   "source": [
    "movies.info()"
   ]
  },
  {
   "cell_type": "code",
   "execution_count": 3,
   "metadata": {},
   "outputs": [
    {
     "name": "stdout",
     "output_type": "stream",
     "text": [
      "<class 'pandas.core.frame.DataFrame'>\n",
      "RangeIndex: 100836 entries, 0 to 100835\n",
      "Data columns (total 4 columns):\n",
      " #   Column     Non-Null Count   Dtype  \n",
      "---  ------     --------------   -----  \n",
      " 0   userId     100836 non-null  int64  \n",
      " 1   movieId    100836 non-null  int64  \n",
      " 2   rating     100836 non-null  float64\n",
      " 3   timestamp  100836 non-null  int64  \n",
      "dtypes: float64(1), int64(3)\n",
      "memory usage: 3.1 MB\n"
     ]
    }
   ],
   "source": [
    "ratings.info()"
   ]
  },
  {
   "cell_type": "markdown",
   "metadata": {},
   "source": [
    "## Data Preperations\n",
    "When exploring the dataset, none of the data was missing and other than the timestamps, all columns were usable. "
   ]
  },
  {
   "cell_type": "code",
   "execution_count": 4,
   "metadata": {},
   "outputs": [],
   "source": [
    "### Remove the timestamp column ### \n",
    "ratings.drop('timestamp', axis = 1, inplace = True)"
   ]
  },
  {
   "cell_type": "code",
   "execution_count": 5,
   "metadata": {},
   "outputs": [],
   "source": [
    "from surprise import Reader, Dataset\n",
    "from surprise.model_selection import train_test_split\n",
    "\n",
    "### Reader to use surprise libraries and create training set and testset ### \n",
    "reader = Reader()\n",
    "data = Dataset.load_from_df(ratings,reader)\n",
    "trainset, testset = train_test_split(data, test_size=0.3, random_state= 69)"
   ]
  },
  {
   "cell_type": "code",
   "execution_count": 6,
   "metadata": {},
   "outputs": [],
   "source": [
    "from surprise.prediction_algorithms import knns\n",
    "from surprise import accuracy"
   ]
  },
  {
   "cell_type": "markdown",
   "metadata": {},
   "source": [
    "## Modeling "
   ]
  },
  {
   "cell_type": "markdown",
   "metadata": {},
   "source": [
    "### Baseline Model with KNN Baseline \n",
    "A baseline model to compare the model if it is improving. \n",
    "KnnBasic, a memory based method was used with cosine similarity comparison. "
   ]
  },
  {
   "cell_type": "code",
   "execution_count": 7,
   "metadata": {},
   "outputs": [
    {
     "name": "stdout",
     "output_type": "stream",
     "text": [
      "Computing the cosine similarity matrix...\n",
      "Done computing similarity matrix.\n",
      "RMSE: 0.9819\n",
      "0.9818952607403942\n"
     ]
    }
   ],
   "source": [
    "sim_cos = {\"name\": \"cosine\", \"user_based\": True}\n",
    "basic = knns.KNNBasic(sim_options=sim_cos)\n",
    "basic.fit(trainset)\n",
    "basic_pred = basic.test(testset)\n",
    "print(accuracy.rmse(basic_pred))"
   ]
  },
  {
   "cell_type": "markdown",
   "metadata": {},
   "source": [
    "#### Baseline Evaulation\n",
    "The rating are roughly 1 point off which is pretty large considering that the range of ratings are from 1 to 5\n",
    "This is the first model where we will see if we can imporve on it. We are focused on user to user similarities for this project. "
   ]
  },
  {
   "cell_type": "markdown",
   "metadata": {},
   "source": [
    "## Improved Models \n",
    "Grid search were used for multiple different algorithm to determine the best model to use for recommendations."
   ]
  },
  {
   "cell_type": "code",
   "execution_count": 9,
   "metadata": {},
   "outputs": [],
   "source": [
    "from surprise.prediction_algorithms import KNNWithMeans, KNNBasic, KNNBaseline"
   ]
  },
  {
   "cell_type": "markdown",
   "metadata": {},
   "source": [
    "### Memory Based Methods "
   ]
  },
  {
   "cell_type": "markdown",
   "metadata": {},
   "source": [
    "#### KnnBasic"
   ]
  },
  {
   "cell_type": "code",
   "execution_count": 23,
   "metadata": {},
   "outputs": [
    {
     "name": "stdout",
     "output_type": "stream",
     "text": [
      "Computing the cosine similarity matrix...\n",
      "Done computing similarity matrix.\n",
      "RMSE: 0.9819\n",
      "0.9818952607403942\n"
     ]
    }
   ],
   "source": [
    "sim_cosine = {\"name\": \"cosine\", \"user_based\": True}\n",
    "\n",
    "basic_pearson = knns.KNNBasic(sim_options=sim_cosine, random_state = 69)\n",
    "basic_pearson.fit(trainset)\n",
    "predictions = basic_pearson.test(testset)\n",
    "print(accuracy.rmse(predictions))   "
   ]
  },
  {
   "cell_type": "markdown",
   "metadata": {},
   "source": [
    "#### Knn With Means"
   ]
  },
  {
   "cell_type": "code",
   "execution_count": 24,
   "metadata": {},
   "outputs": [
    {
     "name": "stdout",
     "output_type": "stream",
     "text": [
      "Computing the cosine similarity matrix...\n",
      "Done computing similarity matrix.\n",
      "RMSE: 0.9103\n",
      "0.910278017316939\n"
     ]
    }
   ],
   "source": [
    "knn_means = knns.KNNWithMeans(sim_options=sim_cosine, random_state = 69)\n",
    "knn_means.fit(trainset)\n",
    "predictions = knn_means.test(testset)\n",
    "print(accuracy.rmse(predictions))"
   ]
  },
  {
   "cell_type": "markdown",
   "metadata": {},
   "source": [
    "#### Knn Baseline "
   ]
  },
  {
   "cell_type": "code",
   "execution_count": 26,
   "metadata": {},
   "outputs": [
    {
     "name": "stdout",
     "output_type": "stream",
     "text": [
      "Estimating biases using als...\n",
      "Computing the cosine similarity matrix...\n",
      "Done computing similarity matrix.\n",
      "RMSE: 0.8883\n",
      "0.8882986936389531\n"
     ]
    }
   ],
   "source": [
    "knn_baseline = knns.KNNBaseline(sim_options=sim_cosine, random_state = 69)\n",
    "knn_baseline.fit(trainset)\n",
    "predictions = knn_baseline.test(testset)\n",
    "print(accuracy.rmse(predictions))"
   ]
  },
  {
   "cell_type": "markdown",
   "metadata": {},
   "source": [
    "The KnnBaseline performed the best out of all the models for the memory based algorithm. "
   ]
  },
  {
   "cell_type": "markdown",
   "metadata": {},
   "source": [
    "### Model Based Method"
   ]
  },
  {
   "cell_type": "markdown",
   "metadata": {},
   "source": [
    "#### SVD algoritm\n",
    "Find the best parameters for SVD algorithms"
   ]
  },
  {
   "cell_type": "code",
   "execution_count": 8,
   "metadata": {},
   "outputs": [],
   "source": [
    "from surprise.prediction_algorithms import SVD\n",
    "from surprise.model_selection import GridSearchCV\n",
    "\n",
    "# params = {'n_factors': [20, 50, 100],\n",
    "#          'reg_all': [0.02, 0.05, 0.1],\n",
    "#           'lr_all': [.001, .002, .003, .004, .005],\n",
    "#          'random_state':[69]\n",
    "#          }\n",
    "# g_s_svd = GridSearchCV(SVD,param_grid=params,n_jobs=-1)\n",
    "# g_s_svd.fit(data)\n",
    "# g_s_svd.best_params\n",
    "\n",
    "#  {'rmse': {'n_factors': 100,\n",
    "#   'reg_all': 0.05,\n",
    "#   'lr_all': 0.005,\n",
    "#   'random_state': 69},\n",
    "#  'mae': {'n_factors': 100,\n",
    "#   'reg_all': 0.05,\n",
    "#   'lr_all': 0.005,\n",
    "#   'random_state': 69}}"
   ]
  },
  {
   "cell_type": "code",
   "execution_count": 10,
   "metadata": {},
   "outputs": [
    {
     "name": "stdout",
     "output_type": "stream",
     "text": [
      "RMSE: 0.8794\n",
      "0.8793716488892641\n"
     ]
    }
   ],
   "source": [
    "best_svd = SVD(n_factors= 20, reg_all = 0.1, random_state = 69)\n",
    "best_svd.fit(trainset)\n",
    "svd_pred = best_svd.test(testset)\n",
    "print(accuracy.rmse(svd_pred))"
   ]
  },
  {
   "cell_type": "markdown",
   "metadata": {},
   "source": [
    "### KnnBaseline vs SVD\n",
    "Both KnnBaseline and SVD performed the best when modelling so we need to determine which will be used for the final model. A gridsearch is used to see if there is a better combination of parameters to use. "
   ]
  },
  {
   "cell_type": "code",
   "execution_count": 14,
   "metadata": {},
   "outputs": [],
   "source": [
    "# clf = knns.KNNBaseline(sim_options=sim_pearson)\n",
    "# params = {'k':[10, 20, 30, 40, 50],\n",
    "#           'min_k': [1, 2, 3, 4],\n",
    "#           'random_state':[69]\n",
    "#          }\n",
    "# g_s_baseline = GridSearchCV(KNNBaseline,param_grid=params,n_jobs=-1)\n",
    "# g_s_baseline.fit(data)\n",
    "# g_s_baseline.best_params"
   ]
  },
  {
   "cell_type": "code",
   "execution_count": 29,
   "metadata": {},
   "outputs": [
    {
     "name": "stdout",
     "output_type": "stream",
     "text": [
      "Estimating biases using als...\n",
      "Computing the pearson similarity matrix...\n",
      "Done computing similarity matrix.\n",
      "RMSE: 0.8776\n",
      "0.8776019532148854\n"
     ]
    }
   ],
   "source": [
    "sim_pearson = {\"name\": \"pearson\", \"user_based\": True}\n",
    "knn_baseline = knns.KNNBaseline(k = 30, min_k = 4,sim_options=sim_pearson, random_state = 69)\n",
    "knn_baseline.fit(trainset)\n",
    "predictions = knn_baseline.test(testset)\n",
    "print(accuracy.rmse(predictions))"
   ]
  },
  {
   "cell_type": "markdown",
   "metadata": {},
   "source": [
    "**Knn Baseline** perform **slightly better** than the SVD method so we will use that for our model."
   ]
  },
  {
   "cell_type": "code",
   "execution_count": 33,
   "metadata": {},
   "outputs": [],
   "source": [
    "\n",
    "def user_top_5(user_id, model):\n",
    "    \"\"\"Take in a model and a user Id and output the predicted rating for the movies\n",
    "    ______________________________\n",
    "    Input - user_id (int) \n",
    "    Output - list (list) \n",
    "    ______________________________\n",
    "    Will only accept users in the model since data is needed for the model to work.\n",
    "    List output is sorted before returning.\n",
    "    Will not suggest movies already seen. \n",
    "    \"\"\"\n",
    "    \n",
    "    if(user_id not in ratings['userId'].unique()):\n",
    "        return \"Invalid User\"\n",
    "    seen_movies = ratings['movieId'].loc[ratings['userId'] == user_id].values\n",
    "    new_movies = [movie for movie in movies.movieId.values if movie not in seen_movies]\n",
    "    predicted_ratings = []\n",
    "    for movie in new_movies:\n",
    "        predicted_ratings.append((movie, model.predict(user_id, movie)[3]))\n",
    "    list_of_movies = sorted(predicted_ratings, key= lambda x: x[1], reverse= True)\n",
    "    return list_of_movies\n",
    "\n",
    "def past_movies(user_id):\n",
    "    \"\"\" Function locate all the movies watched by the user and return a dataframe of them. \n",
    "    ______________________________\n",
    "    Input - user_id (int) \n",
    "    Output - past_movies (Dataframe) \n",
    "    ______________________________\n",
    "    \"\"\"\n",
    "    user_movies = ratings.loc[ratings['userId'] == user_id]\n",
    "    ids = [ID for ID in user_movies['movieId'].values]\n",
    "    past_movies = movies[['title', 'genres']].loc[movies['movieId'].isin(ids)]\n",
    "    return past_movies\n",
    "\n",
    "def id_title(ids):\n",
    "    return movies['movieId']"
   ]
  },
  {
   "cell_type": "code",
   "execution_count": 30,
   "metadata": {},
   "outputs": [],
   "source": [
    "movie_df = past_movies(1)\n",
    "list_genres = movie_df.genres.values"
   ]
  },
  {
   "cell_type": "code",
   "execution_count": 18,
   "metadata": {},
   "outputs": [
    {
     "data": {
      "text/plain": [
       "[('Action', 90),\n",
       " ('Adventure', 85),\n",
       " ('Comedy', 83),\n",
       " ('Drama', 68),\n",
       " ('Thriller', 55),\n",
       " ('Fantasy', 47),\n",
       " ('Crime', 45),\n",
       " ('Children', 42),\n",
       " ('Sci-Fi', 40),\n",
       " ('Animation', 29),\n",
       " ('Romance', 26),\n",
       " ('War', 22),\n",
       " ('Musical', 22),\n",
       " ('Mystery', 18),\n",
       " ('Horror', 17),\n",
       " ('Western', 7),\n",
       " ('Film-Noir', 1)]"
      ]
     },
     "execution_count": 18,
     "metadata": {},
     "output_type": "execute_result"
    }
   ],
   "source": [
    "genres = {}\n",
    "for movie in list_genres: \n",
    "    separated_genre = movie.split(sep= '|')\n",
    "    for genre in separated_genre:\n",
    "        if genres.get(genre) != None:\n",
    "            genres[genre] += 1\n",
    "        else:\n",
    "            genres[genre] = 1\n",
    "sorted(genres.items(), key= lambda x : x[1], reverse= True)"
   ]
  },
  {
   "cell_type": "code",
   "execution_count": 19,
   "metadata": {},
   "outputs": [
    {
     "ename": "TypeError",
     "evalue": "list indices must be integers or slices, not str",
     "output_type": "error",
     "traceback": [
      "\u001b[1;31m---------------------------------------------------------------------------\u001b[0m",
      "\u001b[1;31mTypeError\u001b[0m                                 Traceback (most recent call last)",
      "\u001b[1;32m<ipython-input-19-dc98b69d0528>\u001b[0m in \u001b[0;36m<module>\u001b[1;34m\u001b[0m\n\u001b[1;32m----> 1\u001b[1;33m \u001b[0mratings\u001b[0m\u001b[1;33m.\u001b[0m\u001b[0mloc\u001b[0m\u001b[1;33m[\u001b[0m\u001b[0mratings\u001b[0m\u001b[1;33m[\u001b[0m\u001b[1;34m'movieId'\u001b[0m\u001b[1;33m]\u001b[0m\u001b[1;33m.\u001b[0m\u001b[0misin\u001b[0m\u001b[1;33m(\u001b[0m\u001b[0mtestset\u001b[0m\u001b[1;33m[\u001b[0m\u001b[1;34m'movieId'\u001b[0m\u001b[1;33m]\u001b[0m\u001b[1;33m.\u001b[0m\u001b[0mvalues\u001b[0m\u001b[1;33m)\u001b[0m\u001b[1;33m]\u001b[0m\u001b[1;33m\u001b[0m\u001b[1;33m\u001b[0m\u001b[0m\n\u001b[0m",
      "\u001b[1;31mTypeError\u001b[0m: list indices must be integers or slices, not str"
     ]
    }
   ],
   "source": [
    "ratings.loc[ratings['movieId'].isin(testset['movieId'].values)]"
   ]
  },
  {
   "cell_type": "markdown",
   "metadata": {},
   "source": [
    "## Item to Item Comparisons\n",
    "There are a fair amount of movies that the system recommends. \n",
    "In order to help filter more of the movies out, we will use the data provided by the movie dataset. \n",
    "Speciafially, we will use the genre columns to see if we can help narrow down the movies even further."
   ]
  },
  {
   "cell_type": "code",
   "execution_count": 31,
   "metadata": {},
   "outputs": [
    {
     "name": "stdout",
     "output_type": "stream",
     "text": [
      "Estimating biases using als...\n",
      "Computing the pearson similarity matrix...\n",
      "Done computing similarity matrix.\n",
      "RMSE: 0.8890\n",
      "0.8889934058130716\n"
     ]
    }
   ],
   "source": [
    "### Train another model but item to item comparison instead ###\n",
    "\n",
    "sim_pearson = {\"name\": \"pearson\", \"user_based\": False}\n",
    "knn_baseline_item = knns.KNNBaseline(k = 30, min_k = 4,sim_options=sim_pearson, random_state = 69)\n",
    "knn_baseline_item.fit(trainset)\n",
    "predictions = knn_baseline_item.test(testset)\n",
    "print(accuracy.rmse(predictions))"
   ]
  },
  {
   "cell_type": "code",
   "execution_count": 40,
   "metadata": {},
   "outputs": [
    {
     "data": {
      "image/png": "[encoded data removed]",
      "text/plain": [
       "<Figure size 432x288 with 1 Axes>"
      ]
     },
     "metadata": {
      "needs_background": "light"
     },
     "output_type": "display_data"
    }
   ],
   "source": [
    "import matplotlib.pyplot as plt\n",
    "user_user = user_top_5(1, knn_baseline)\n",
    "item_item = user_top_5(1, knn_baseline_item)\n",
    "x_1 = [ID[0] for ID in user_user]\n",
    "x_2 = [ID[0] for ID in item_item]\n",
    "y_1 = [ID[1] for ID in user_user]\n",
    "y_2 = [ID[1] for ID in item_item]\n",
    "\n",
    "plt.title('Users vs Item Comparison')\n",
    "plt.ylabel('Ratings (0-5)')\n",
    "plt.xlabel('Movie IDs')\n",
    "plt.scatter(x_1, y_1, label = 'User - User');\n",
    "plt.scatter(x_2, y_2, label = 'Item - Item');\n",
    "plt.legend();"
   ]
  },
  {
   "cell_type": "markdown",
   "metadata": {},
   "source": [
    "### Comparison Analysis\n",
    "From the predicted ratings, we can see that the model based on the similarities of the users tend to **dislike older added films** and progressive gets **better over time**. This could be due to more users have seened old films and thus more of a spread or that quality have gone up for newer movies. \n",
    "The item comparison, shows similarities in movies that users watched to see if they would like another movie. Its worth noting that most movies **didn't score lower than 3** and may appear to believe that most movies are the similar to one another which make sense due to similar genres and troopes"
   ]
  },
  {
   "cell_type": "markdown",
   "metadata": {},
   "source": [
    "## Next Step\n",
    "We created two model, one recommends movie based of the users and another from the movies. \n",
    "To help narrow down the movies to recommend, we will use both list to consider the best movies to recommend the user. "
   ]
  },
  {
   "cell_type": "code",
   "execution_count": 58,
   "metadata": {},
   "outputs": [],
   "source": [
    "counter = 0\n",
    "top_movie_id = []\n",
    "for movie in item_item:\n",
    "    for item in user_user[0:10]:\n",
    "        if movie[0] == item[0]:\n",
    "            top_movie_id.append(movie[0])\n",
    "        if len(top_movie_id) == 5:\n",
    "            break"
   ]
  },
  {
   "cell_type": "code",
   "execution_count": 59,
   "metadata": {},
   "outputs": [
    {
     "data": {
      "text/html": [
       "<div>\n",
       "<style scoped>\n",
       "    .dataframe tbody tr th:only-of-type {\n",
       "        vertical-align: middle;\n",
       "    }\n",
       "\n",
       "    .dataframe tbody tr th {\n",
       "        vertical-align: top;\n",
       "    }\n",
       "\n",
       "    .dataframe thead th {\n",
       "        text-align: right;\n",
       "    }\n",
       "</style>\n",
       "<table border=\"1\" class=\"dataframe\">\n",
       "  <thead>\n",
       "    <tr style=\"text-align: right;\">\n",
       "      <th></th>\n",
       "      <th>movieId</th>\n",
       "      <th>title</th>\n",
       "      <th>genres</th>\n",
       "    </tr>\n",
       "  </thead>\n",
       "  <tbody>\n",
       "    <tr>\n",
       "      <th>277</th>\n",
       "      <td>318</td>\n",
       "      <td>Shawshank Redemption, The (1994)</td>\n",
       "      <td>Crime|Drama</td>\n",
       "    </tr>\n",
       "    <tr>\n",
       "      <th>413</th>\n",
       "      <td>475</td>\n",
       "      <td>In the Name of the Father (1993)</td>\n",
       "      <td>Drama</td>\n",
       "    </tr>\n",
       "    <tr>\n",
       "      <th>585</th>\n",
       "      <td>720</td>\n",
       "      <td>Wallace &amp; Gromit: The Best of Aardman Animatio...</td>\n",
       "      <td>Adventure|Animation|Comedy</td>\n",
       "    </tr>\n",
       "    <tr>\n",
       "      <th>596</th>\n",
       "      <td>741</td>\n",
       "      <td>Ghost in the Shell (Kôkaku kidôtai) (1995)</td>\n",
       "      <td>Animation|Sci-Fi</td>\n",
       "    </tr>\n",
       "    <tr>\n",
       "      <th>602</th>\n",
       "      <td>750</td>\n",
       "      <td>Dr. Strangelove or: How I Learned to Stop Worr...</td>\n",
       "      <td>Comedy|War</td>\n",
       "    </tr>\n",
       "  </tbody>\n",
       "</table>\n",
       "</div>"
      ],
      "text/plain": [
       "     movieId                                              title  \\\n",
       "277      318                   Shawshank Redemption, The (1994)   \n",
       "413      475                   In the Name of the Father (1993)   \n",
       "585      720  Wallace & Gromit: The Best of Aardman Animatio...   \n",
       "596      741         Ghost in the Shell (Kôkaku kidôtai) (1995)   \n",
       "602      750  Dr. Strangelove or: How I Learned to Stop Worr...   \n",
       "\n",
       "                         genres  \n",
       "277                 Crime|Drama  \n",
       "413                       Drama  \n",
       "585  Adventure|Animation|Comedy  \n",
       "596            Animation|Sci-Fi  \n",
       "602                  Comedy|War  "
      ]
     },
     "execution_count": 59,
     "metadata": {},
     "output_type": "execute_result"
    }
   ],
   "source": [
    "movies.loc[(movies['movieId'].isin(top_movie_id[0:5]))]"
   ]
  },
  {
   "cell_type": "code",
   "execution_count": null,
   "metadata": {},
   "outputs": [],
   "source": [
    "list_1 = sorted(user_user"
   ]
  },
  {
   "cell_type": "code",
   "execution_count": null,
   "metadata": {},
   "outputs": [],
   "source": [
    "set(list_1[0:10]) == set(list_2[0:10])\n",
    "    "
   ]
  },
  {
   "cell_type": "code",
   "execution_count": 43,
   "metadata": {},
   "outputs": [
    {
     "data": {
      "text/plain": [
       "[(318, 5),\n",
       " (7008, 4.3725654687351225),\n",
       " (112421, 4.365100285094778),\n",
       " (73344, 4.363744661831989),\n",
       " (5919, 4.356639489567101)]"
      ]
     },
     "execution_count": 43,
     "metadata": {},
     "output_type": "execute_result"
    }
   ],
   "source": [
    "top_movie_id"
   ]
  },
  {
   "cell_type": "code",
   "execution_count": null,
   "metadata": {},
   "outputs": [],
   "source": []
  }
 ],
 "metadata": {
  "kernelspec": {
   "display_name": "Python 3",
   "language": "python",
   "name": "python3"
  },
  "language_info": {
   "codemirror_mode": {
    "name": "ipython",
    "version": 3
   },
   "file_extension": ".py",
   "mimetype": "text/x-python",
   "name": "python",
   "nbconvert_exporter": "python",
   "pygments_lexer": "ipython3",
   "version": "3.8.5"
  }
 },
 "nbformat": 4,
 "nbformat_minor": 4
}

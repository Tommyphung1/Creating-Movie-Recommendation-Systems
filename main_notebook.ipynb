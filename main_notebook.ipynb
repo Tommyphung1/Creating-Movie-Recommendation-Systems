{
 "cells": [
  {
   "cell_type": "markdown",
   "metadata": {
    "tags": []
   },
   "source": [
    "# Project 4 Project\n",
    "## Recommendations of Movies\n",
    "![First Picture](pictures/Movie Recommendation Pict.jpg)"
   ]
  },
  {
   "cell_type": "markdown",
   "metadata": {},
   "source": [
    "## Overview \n",
    "There are more than millions of movies made since first introduced. The normal person however has limited time to watch movies in their free time more than ever. To help consumers save time and money and companies give consumers the best experience, recommendations are made to make selection easier. To make these recommendations, we will be using a dataset of roughly **10,000 movie entries** to predict that a user would rate a given movie higher than those users with similar reviews on said movie. By comparing similar users and movie ratings, we should be able to recommend movies accurately. \n",
    "\n",
    "We attempt to use **memory-based modeling** and **model-based modeling** to fit the training set. **Peterson's similarity** appeared to perform the best for the Memory based models and was used to compare the others. Grid search was also used for both types to find the best combinations for each of the models. The final model used was the KNN Baseline algorithm\n",
    "\n",
    "Lastly, there were **two ways** to recommend to users the top 5 movies. <br>\n",
    "**First** was an artificial ranking given by the position and weighing them the user-based model and the item-based model. **The sum of the two ranks is their combined rank and is compared to the others to recommend.** <br>\n",
    "The **second** way is to take the corresponding rank of the predicted values from the models and take **the average of the ratings from their sum**. The second way appear to be a better prediction than the previous models with a small difference in RSME. "
   ]
  },
  {
   "cell_type": "markdown",
   "metadata": {},
   "source": [
    "## Buiness Understanding\n",
    "\n",
    "There has been a boom in streaming services and thousands of movies for consumers to watch. Netflix has over **4,000 movies** and Prime Video has roughly **7,000 movies** not considering that these big streaming services have their original movies as well. To compete with other streaming platforms, the user experience should be the focus of these companies. <br>\n",
    "**One aspect to look into is the recommendation system they have on their website that would recommend movies to the users based on their movies, trending movies, and popular movies**. The user experience needs to entice old users to stay and welcome new users to join and begin watching movies. \n",
    "\n",
    "Recommendation works well in most cases. On average, better-rated movies perform well and people will actively look for them before making their choice to watch said movie. For example, **70% of videos** watched are made from their recommendations. "
   ]
  },
  {
   "cell_type": "markdown",
   "metadata": {},
   "source": [
    "## Data Understanding\n",
    "The dataset was compiled by the **Grouplens** research group and the source of that data comes MovieLens. MovieLens is a movie recommendation service that has **9,742 movies** and **100,836 ratings** from **610 users**. The dataset was updated on September 26, 2018. There are three datasets but will only be needing two of them, the ratings and the movies. \n",
    "\n",
    "The movie dataset has the movie IDs, titles, and genres for the movie. This was used mainly for conversions but could potentially be used for the genres as it was explored for a bit. \n",
    "Ratings have the most pieces of information as it has ratings and timestamps. The ratings were scaled from **0 to 5 with a .5 step**. \n",
    "\n",
    "Exploring the datasets have some interesting facts concerning the dataset. For one, the distribution is slightly skewed left with the **mean** rating happening to be roughly **3.5**. There are a handful of users that contributes to the reviews given which may have bias depending on who the user was. **Most movies were not rated below 3** so it might be difficult to determine a good movie to recommend.  "
   ]
  },
  {
   "cell_type": "code",
   "execution_count": 1,
   "metadata": {},
   "outputs": [],
   "source": [
    "### Read all the dataset and load them in with proper names ###\n",
    "### Links were not used for this project ###\n",
    "\n",
    "import pandas as pd\n",
    "import helper as hp\n",
    "movies = pd.read_csv('ml-latest-small/movies.csv')\n",
    "ratings = pd.read_csv('ml-latest-small/ratings.csv')\n",
    "tags = pd.read_csv('ml-latest-small/tags.csv')\n",
    "\n",
    "# links = pd.read_csv('ml-latest-small/links.csv') "
   ]
  },
  {
   "cell_type": "markdown",
   "metadata": {
    "tags": []
   },
   "source": [
    "### Exploration Information\n",
    "* There are 9,742 movies in the dataset\n",
    "* There are 100,836 ratings and 610 users \n",
    "* There are 58 users that make up the 3,683 tags added\n",
    "* Genres are separated by | if there are more than one\n"
   ]
  },
  {
   "cell_type": "code",
   "execution_count": 2,
   "metadata": {},
   "outputs": [
    {
     "name": "stdout",
     "output_type": "stream",
     "text": [
      "<class 'pandas.core.frame.DataFrame'>\n",
      "RangeIndex: 9742 entries, 0 to 9741\n",
      "Data columns (total 3 columns):\n",
      " #   Column   Non-Null Count  Dtype \n",
      "---  ------   --------------  ----- \n",
      " 0   movieId  9742 non-null   int64 \n",
      " 1   title    9742 non-null   object\n",
      " 2   genres   9742 non-null   object\n",
      "dtypes: int64(1), object(2)\n",
      "memory usage: 228.5+ KB\n"
     ]
    }
   ],
   "source": [
    "movies.info()"
   ]
  },
  {
   "cell_type": "code",
   "execution_count": 3,
   "metadata": {},
   "outputs": [
    {
     "name": "stdout",
     "output_type": "stream",
     "text": [
      "<class 'pandas.core.frame.DataFrame'>\n",
      "RangeIndex: 100836 entries, 0 to 100835\n",
      "Data columns (total 4 columns):\n",
      " #   Column     Non-Null Count   Dtype  \n",
      "---  ------     --------------   -----  \n",
      " 0   userId     100836 non-null  int64  \n",
      " 1   movieId    100836 non-null  int64  \n",
      " 2   rating     100836 non-null  float64\n",
      " 3   timestamp  100836 non-null  int64  \n",
      "dtypes: float64(1), int64(3)\n",
      "memory usage: 3.1 MB\n"
     ]
    }
   ],
   "source": [
    "ratings.info()"
   ]
  },
  {
   "cell_type": "markdown",
   "metadata": {},
   "source": [
    "## Data Preperations\n",
    "When exploring the dataset, none of the data was missing and other than the timestamps, all columns were usable. "
   ]
  },
  {
   "cell_type": "code",
   "execution_count": 4,
   "metadata": {},
   "outputs": [],
   "source": [
    "### Remove the timestamp column ### \n",
    "ratings.drop('timestamp', axis = 1, inplace = True)\n",
    "global movie_id_list, user_list\n",
    "movie_id_list = movies.movieId.unique()\n",
    "user_list = ratings.userId.unique()"
   ]
  },
  {
   "cell_type": "code",
   "execution_count": 5,
   "metadata": {},
   "outputs": [],
   "source": [
    "from surprise import Reader, Dataset\n",
    "from surprise.model_selection import train_test_split\n",
    "\n",
    "### Reader to use surprise libraries and create training set and testset ### \n",
    "reader = Reader()\n",
    "data = Dataset.load_from_df(ratings,reader)\n",
    "trainset, testset = train_test_split(data, test_size=0.3, random_state= 69)"
   ]
  },
  {
   "cell_type": "code",
   "execution_count": 6,
   "metadata": {},
   "outputs": [],
   "source": [
    "### Necessary libraries for modeling and validating and testing accuracy of the models ### \n",
    "from surprise.prediction_algorithms import knns\n",
    "from surprise.model_selection import cross_validate\n",
    "from surprise import accuracy"
   ]
  },
  {
   "cell_type": "markdown",
   "metadata": {},
   "source": [
    "## Method\n",
    "We used surprise libraries to create a recommendation system using different algorithms. The Memory-Based models are **KnnBasic**, **KnnBaseline**, and **KnnWithMeans**. The Model-based modeling algorithm is **SVD or Singular Value decomposition**. After finding the best base model, a grid search is used to find the best parameters. We also tried to use different similarity conditions to see if that also improves the model. "
   ]
  },
  {
   "cell_type": "markdown",
   "metadata": {},
   "source": [
    "### Baseline Model with KNN Baseline \n",
    "A baseline model to compare the model if it is improving. \n",
    "KnnBasic, a memory based method was used with cosine similarity comparison. "
   ]
  },
  {
   "cell_type": "code",
   "execution_count": 7,
   "metadata": {},
   "outputs": [
    {
     "name": "stdout",
     "output_type": "stream",
     "text": [
      "Computing the cosine similarity matrix...\n",
      "Done computing similarity matrix.\n",
      "RMSE: 0.9819\n",
      "0.9818952607403942\n"
     ]
    }
   ],
   "source": [
    "sim_cos = {\"name\": \"cosine\", \"user_based\": True}\n",
    "basic = knns.KNNBasic(sim_options=sim_cos)\n",
    "basic.fit(trainset)\n",
    "basic_pred = basic.test(testset)\n",
    "print(accuracy.rmse(basic_pred))"
   ]
  },
  {
   "cell_type": "markdown",
   "metadata": {},
   "source": [
    "#### Baseline Evaulation\n",
    "The rating are roughly 1 point off which is pretty large considering that the range of ratings are from 1 to 5. \n",
    "We will atttempt to improve on the accuracy of the model by using different methods and using grid search to look for the most optimal parameters."
   ]
  },
  {
   "cell_type": "markdown",
   "metadata": {},
   "source": [
    "### Memory Based Methods \n",
    "Three different variation of KNN with all the cosine similarity to compare and all user based for these models. <br>\n",
    "**Cosine similarity was shown to be the better than the common peterson similarity**. "
   ]
  },
  {
   "cell_type": "markdown",
   "metadata": {},
   "source": [
    "#### KnnBasic"
   ]
  },
  {
   "cell_type": "code",
   "execution_count": 8,
   "metadata": {},
   "outputs": [
    {
     "name": "stdout",
     "output_type": "stream",
     "text": [
      "Computing the cosine similarity matrix...\n",
      "Done computing similarity matrix.\n",
      "Computing the cosine similarity matrix...\n",
      "Done computing similarity matrix.\n",
      "Computing the cosine similarity matrix...\n",
      "Done computing similarity matrix.\n",
      "Computing the cosine similarity matrix...\n",
      "Done computing similarity matrix.\n",
      "Average Cross Validate RMSE Score:  0.978325228237377\n",
      "RMSE: 0.9819\n",
      "Testset RSME Score:  0.9818952607403942\n"
     ]
    }
   ],
   "source": [
    "sim_cosine = {\"name\": \"cosine\", \"user_based\": True}\n",
    "\n",
    "basic_pearson = knns.KNNBasic(sim_options=sim_cosine, random_state = 69)\n",
    "cv_basic = cross_validate(basic_pearson, data, measures=['RMSE', 'MAE'], cv=3, verbose=False)['test_rmse'].mean()\n",
    "basic_pearson.fit(trainset)\n",
    "predictions = basic_pearson.test(testset)\n",
    "\n",
    "print('Average Cross Validate RMSE Score: ', cv_basic)\n",
    "print('Testset RSME Score: ',accuracy.rmse(predictions))   "
   ]
  },
  {
   "cell_type": "markdown",
   "metadata": {},
   "source": [
    "#### Knn With Means"
   ]
  },
  {
   "cell_type": "code",
   "execution_count": 9,
   "metadata": {},
   "outputs": [
    {
     "name": "stdout",
     "output_type": "stream",
     "text": [
      "Computing the cosine similarity matrix...\n",
      "Done computing similarity matrix.\n",
      "Computing the cosine similarity matrix...\n",
      "Done computing similarity matrix.\n",
      "Computing the cosine similarity matrix...\n",
      "Done computing similarity matrix.\n",
      "Computing the cosine similarity matrix...\n",
      "Done computing similarity matrix.\n",
      "Average Cross Validate RMSE Score:  0.9061738873626065\n",
      "RMSE: 0.9103\n",
      "Testset RSME Score:  0.910278017316939\n"
     ]
    }
   ],
   "source": [
    "knn_means = knns.KNNWithMeans(sim_options=sim_cosine, random_state = 69)\n",
    "cv_means = cross_validate(knn_means, data, measures=['RMSE', 'MAE'], cv=3, verbose=False)['test_rmse'].mean()\n",
    "knn_means.fit(trainset)\n",
    "predictions = knn_means.test(testset)\n",
    "\n",
    "print('Average Cross Validate RMSE Score: ', cv_means)\n",
    "print('Testset RSME Score: ',accuracy.rmse(predictions)) "
   ]
  },
  {
   "cell_type": "markdown",
   "metadata": {},
   "source": [
    "#### Knn Baseline "
   ]
  },
  {
   "cell_type": "code",
   "execution_count": 10,
   "metadata": {},
   "outputs": [
    {
     "name": "stdout",
     "output_type": "stream",
     "text": [
      "Estimating biases using als...\n",
      "Computing the cosine similarity matrix...\n",
      "Done computing similarity matrix.\n",
      "Estimating biases using als...\n",
      "Computing the cosine similarity matrix...\n",
      "Done computing similarity matrix.\n",
      "Estimating biases using als...\n",
      "Computing the cosine similarity matrix...\n",
      "Done computing similarity matrix.\n",
      "Estimating biases using als...\n",
      "Computing the cosine similarity matrix...\n",
      "Done computing similarity matrix.\n",
      "RMSE: 0.8883\n",
      "0.8882986936389531\n",
      "Average Cross Validate RMSE Score:  0.8846043247765069\n",
      "RMSE: 0.8883\n",
      "Testset RSME Score:  0.8882986936389531\n"
     ]
    }
   ],
   "source": [
    "knn_baseline = knns.KNNBaseline(sim_options=sim_cosine, random_state = 69)\n",
    "cv_baseline = cross_validate(knn_baseline, data, measures=['RMSE', 'MAE'], cv=3, verbose=False)['test_rmse'].mean()\n",
    "knn_baseline.fit(trainset)\n",
    "predictions = knn_baseline.test(testset)\n",
    "print(accuracy.rmse(predictions))\n",
    "\n",
    "print('Average Cross Validate RMSE Score: ', cv_baseline)\n",
    "print('Testset RSME Score: ',accuracy.rmse(predictions)) "
   ]
  },
  {
   "cell_type": "markdown",
   "metadata": {},
   "source": [
    "The **KnnBaseline** performed the best out of all the models for the memory based algorithm. "
   ]
  },
  {
   "cell_type": "markdown",
   "metadata": {},
   "source": [
    "### Model Based Method"
   ]
  },
  {
   "cell_type": "markdown",
   "metadata": {},
   "source": [
    "#### SVD algoritm\n",
    "Find the best parameters for SVD algorithms"
   ]
  },
  {
   "cell_type": "code",
   "execution_count": 11,
   "metadata": {},
   "outputs": [],
   "source": [
    "from surprise.prediction_algorithms import SVD\n",
    "from surprise.model_selection import GridSearchCV\n",
    "\n",
    "# params = {'n_factors': [20, 50, 100],\n",
    "#          'reg_all': [0.02, 0.05, 0.1],\n",
    "#           'lr_all': [.001, .002, .003, .004, .005],\n",
    "#          'random_state':[69]\n",
    "#          }\n",
    "# g_s_svd = GridSearchCV(SVD,param_grid=params,n_jobs=-1)\n",
    "# g_s_svd.fit(data)\n",
    "# g_s_svd.best_params\n",
    "\n",
    "#  {'rmse': {'n_factors': 100,\n",
    "#   'reg_all': 0.05,\n",
    "#   'lr_all': 0.005,\n",
    "#   'random_state': 69},\n",
    "#  'mae': {'n_factors': 100,\n",
    "#   'reg_all': 0.05,\n",
    "#   'lr_all': 0.005,\n",
    "#   'random_state': 69}}"
   ]
  },
  {
   "cell_type": "code",
   "execution_count": 12,
   "metadata": {},
   "outputs": [
    {
     "name": "stdout",
     "output_type": "stream",
     "text": [
      "Average Cross Validate RMSE Score:  0.8757490252608563\n",
      "RMSE: 0.8794\n",
      "Testset RSME Score:  0.8793716488892641\n"
     ]
    }
   ],
   "source": [
    "best_svd = SVD(n_factors= 20, reg_all = 0.1, random_state = 69)\n",
    "cv_svd = cross_validate(best_svd, data, measures=['RMSE', 'MAE'], cv=3, verbose=False)['test_rmse'].mean()\n",
    "best_svd.fit(trainset)\n",
    "svd_pred = best_svd.test(testset)\n",
    "\n",
    "print('Average Cross Validate RMSE Score: ', cv_svd)\n",
    "print('Testset RSME Score: ',accuracy.rmse(svd_pred)) "
   ]
  },
  {
   "cell_type": "markdown",
   "metadata": {},
   "source": [
    "### KnnBaseline vs SVD\n",
    "Both KnnBaseline and SVD performed the best when modelling so we need to determine which will be used for the final model. A gridsearch is used to see if there is a better combination of parameters to use. "
   ]
  },
  {
   "cell_type": "code",
   "execution_count": 13,
   "metadata": {},
   "outputs": [],
   "source": [
    "# clf = knns.KNNBaseline(sim_options=sim_pearson)\n",
    "# params = {'k':[10, 20, 30, 40, 50],\n",
    "#           'min_k': [1, 2, 3, 4],\n",
    "#           'random_state':[69]\n",
    "#          }\n",
    "# g_s_baseline = GridSearchCV(KNNBaseline,param_grid=params,n_jobs=-1)\n",
    "# g_s_baseline.fit(data)\n",
    "# g_s_baseline.best_params"
   ]
  },
  {
   "cell_type": "code",
   "execution_count": 14,
   "metadata": {},
   "outputs": [
    {
     "name": "stdout",
     "output_type": "stream",
     "text": [
      "Estimating biases using als...\n",
      "Computing the pearson similarity matrix...\n",
      "Done computing similarity matrix.\n",
      "Estimating biases using als...\n",
      "Computing the pearson similarity matrix...\n",
      "Done computing similarity matrix.\n",
      "Estimating biases using als...\n",
      "Computing the pearson similarity matrix...\n",
      "Done computing similarity matrix.\n",
      "Estimating biases using als...\n",
      "Computing the pearson similarity matrix...\n",
      "Done computing similarity matrix.\n",
      "Average Cross Validate RMSE Score:  0.8748953054913011\n",
      "RMSE: 0.8776\n",
      "Testset RSME Score:  0.8776019532148854\n"
     ]
    }
   ],
   "source": [
    "sim_pearson = {\"name\": \"pearson\", \"user_based\": True}\n",
    "knn_baseline = knns.KNNBaseline(k = 30, min_k = 4,sim_options=sim_pearson, random_state = 69)\n",
    "cv_baseline_best = cross_validate(knn_baseline, data, measures=['RMSE', 'MAE'], cv=3, verbose=False)['test_rmse'].mean()\n",
    "knn_baseline.fit(trainset)\n",
    "predictions = knn_baseline.test(testset)\n",
    "print('Average Cross Validate RMSE Score: ', cv_baseline_best)\n",
    "print('Testset RSME Score: ',accuracy.rmse(predictions)) "
   ]
  },
  {
   "cell_type": "markdown",
   "metadata": {},
   "source": [
    "**Knn Baseline** perform **slightly better** than the SVD method so we will use that for our model."
   ]
  },
  {
   "cell_type": "code",
   "execution_count": 15,
   "metadata": {},
   "outputs": [
    {
     "data": {
      "text/plain": [
       "(254     Léon: The Professional (a.k.a. The Professiona...\n",
       " 596            Ghost in the Shell (Kôkaku kidôtai) (1995)\n",
       " 828                                 Reservoir Dogs (1992)\n",
       " 1939                                   Matrix, The (1999)\n",
       " 2226                                    Fight Club (1999)\n",
       " Name: title, dtype: object,\n",
       " 585     Wallace & Gromit: The Best of Aardman Animatio...\n",
       " 976                             Cyrano de Bergerac (1990)\n",
       " 2410                              Last Detail, The (1973)\n",
       " 9301                             Captain Fantastic (2016)\n",
       " 9618     Three Billboards Outside Ebbing, Missouri (2017)\n",
       " Name: title, dtype: object)"
      ]
     },
     "execution_count": 15,
     "metadata": {},
     "output_type": "execute_result"
    }
   ],
   "source": [
    "### Cases ###\n",
    "# 1. A new user is detected and display top 5 movies from the current ratings. \n",
    "# Does not use model since there is nothing to go off from \n",
    "# user_top_5(review_df= ratings)\n",
    "\n",
    "# 2. User exist and have movies watched\n",
    "# Return the list of movies with the ranking. \n",
    "top_5_1 = hp.user_top_5(knn_baseline,ratings, user_id = 3, movies= movies)\n",
    "top_5_1_title = hp.id_title([ID[0] for ID in top_5_1[0:5]], movies)\n",
    "\n",
    "# 3. User exist and have movies watched\n",
    "# Return the list of movies with the ranking. \n",
    "top_5_593 = hp.user_top_5(knn_baseline,ratings, user_id = 593, movies= movies)\n",
    "top_5_593_title = hp.id_title([ID[0] for ID in top_5_593[0:5]], movies)\n",
    "\n",
    "top_5_1_title, top_5_593_title"
   ]
  },
  {
   "cell_type": "markdown",
   "metadata": {},
   "source": [
    "## Item to Item Comparisons\n",
    "There are a fair amount of movies that the system recommends. \n",
    "In order to help filter more of the movies out, we will use the data provided by the movie dataset. \n",
    "Speciafially, we will use the genre columns to see if we can help narrow down the movies even further."
   ]
  },
  {
   "cell_type": "code",
   "execution_count": 16,
   "metadata": {},
   "outputs": [
    {
     "name": "stdout",
     "output_type": "stream",
     "text": [
      "Estimating biases using als...\n",
      "Computing the pearson similarity matrix...\n",
      "Done computing similarity matrix.\n",
      "RMSE: 0.8890\n",
      "0.8889934058130716\n"
     ]
    }
   ],
   "source": [
    "### Train another model but item to item comparison instead ###\n",
    "\n",
    "sim_pearson = {\"name\": \"pearson\", \"user_based\": False}\n",
    "knn_baseline_item = knns.KNNBaseline(k = 30, min_k = 4,sim_options=sim_pearson, random_state = 69)\n",
    "knn_baseline_item.fit(trainset)\n",
    "predictions = knn_baseline_item.test(testset)\n",
    "print(accuracy.rmse(predictions))"
   ]
  },
  {
   "cell_type": "markdown",
   "metadata": {},
   "source": [
    "## User Example 1 Recommendation\n",
    "Example of the model working to provide recommendation based on the user given.\n",
    "Both of the graphs are from the model's prediction with the watched movies removed. \n",
    "Id is still used for readabilty. "
   ]
  },
  {
   "cell_type": "markdown",
   "metadata": {},
   "source": [
    "### Example Graph comparison"
   ]
  },
  {
   "cell_type": "code",
   "execution_count": 17,
   "metadata": {},
   "outputs": [
    {
     "data": {
      "image/png": "[encoded data removed]",
      "text/plain": [
       "<Figure size 720x360 with 2 Axes>"
      ]
     },
     "metadata": {
      "needs_background": "light"
     },
     "output_type": "display_data"
    }
   ],
   "source": [
    "import matplotlib.pyplot as plt\n",
    "import numpy as np\n",
    "\n",
    "user_user = hp.user_top_5(user_id = 1, model = knn_baseline, review_df = ratings, movies = movies)        ## The list of movies with the best model\n",
    "item_item = hp.user_top_5(user_id = 1, model = knn_baseline_item, review_df = ratings, movies = movies)   ## The list of movies with the best model based off items\n",
    "x_1 = [ID[0] for ID in user_user]   ## All movie id numbers predicted\n",
    "x_2 = [ID[0] for ID in item_item]   ## All movie id numbers predicted from item based \n",
    "y_1 = [ID[1] for ID in user_user]   ## Movie Ratings from user based model\n",
    "y_2 = [ID[1] for ID in item_item]   ## Movie Ratings from item based model\n",
    "\n",
    "fig, ax = plt.subplots(ncols= 2, figsize = (10,5))\n",
    "\n",
    "ax[0].set_title('Users Based Predictions')\n",
    "ax[0].set_xlabel('Movie IDs')\n",
    "ax[0].set_ylabel('Ratings (0-5)')\n",
    "ax[0].set_ylim(0, 5.1)\n",
    "ax[0].scatter(x_1, y_1, label = 'User - User', color = 'green');\n",
    "ax[0].axhline(np.mean(y_2), color = 'red',label= round(np.mean(y_1), 2))\n",
    "ax[0].legend();\n",
    "\n",
    "ax[1].set_title('Items Based Predictions')\n",
    "ax[1].set_ylim(0, 5.1)\n",
    "ax[1].set_ylabel('Ratings (0-5)')\n",
    "ax[1].set_xlabel('Movie IDs')\n",
    "ax[1].scatter(x_2, y_2, label = 'Item - Item');\n",
    "ax[1].axhline(np.mean(y_2), color = 'red', label= round(np.mean(y_2), 2))\n",
    "ax[1].legend();"
   ]
  },
  {
   "cell_type": "markdown",
   "metadata": {},
   "source": [
    "### Comparison Analysis\n",
    "From the predicted ratings for user 1, we can see **a slight difference** in user similarity vs item similarity between movies. Interestingly, the item comparison has all the movies rated above three which goes inside with user 1 trend on rating movies. User 1 doesn't seem so **rate movies lower than three** often and therefore most movies would be rated similarly. Due to the number of users, there is a bigger disparity between users with the movies they watched naturally. \n"
   ]
  },
  {
   "cell_type": "code",
   "execution_count": 18,
   "metadata": {},
   "outputs": [
    {
     "data": {
      "text/plain": [
       "5.0    124\n",
       "4.0     76\n",
       "3.0     26\n",
       "2.0      5\n",
       "1.0      1\n",
       "Name: rating, dtype: int64"
      ]
     },
     "execution_count": 18,
     "metadata": {},
     "output_type": "execute_result"
    }
   ],
   "source": [
    "ratings['rating'].loc[ratings['userId'] == 1].value_counts()"
   ]
  },
  {
   "cell_type": "code",
   "execution_count": 70,
   "metadata": {},
   "outputs": [
    {
     "name": "stdout",
     "output_type": "stream",
     "text": [
      "Movies from User Filter\n",
      "['Hoop Dreams (1994)']\n",
      "['Three Colors: White (Trzy kolory: Bialy) (1994)']\n",
      "['Shawshank Redemption, The (1994)']\n",
      "['In the Name of the Father (1993)']\n",
      "['Shadowlands (1993)']\n",
      "Movies from Movie Filter\n",
      "['Shawshank Redemption, The (1994)']\n",
      "['Ghost in the Shell (Kôkaku kidôtai) (1995)']\n",
      "['Dr. Strangelove or: How I Learned to Stop Worrying and Love the Bomb (1964)']\n",
      "['Sunset Blvd. (a.k.a. Sunset Boulevard) (1950)']\n",
      "['Cool Hand Luke (1967)']\n"
     ]
    }
   ],
   "source": [
    "### Print out the results from the models ###\n",
    "\n",
    "print('Movies from User Filter')\n",
    "for item in user_user[0:5]:\n",
    "    print(movies['title'].loc[movies['movieId'] == item[0]].values)\n",
    "print('Movies from Movie Filter')\n",
    "for item in item_item[0:5]:\n",
    "    print(movies['title'].loc[movies['movieId'] == item[0]].values)"
   ]
  },
  {
   "cell_type": "markdown",
   "metadata": {},
   "source": [
    "### Individual Results \n",
    "The **Top movies** for these two prediction are as follows.\n",
    "\n",
    "| User Filter                                       | Movie Filter                                                                  |\n",
    "|---------------------------------------------------|-------------------------------------------------------------------------------|\n",
    "| 'Hoop Dreams (1994)'                              | **'Shawshank Redemption, The (1994)'**                                            |\n",
    "| 'Three Colors: White (Trzy kolory: Bialy) (1994)' | 'Ghost in the Shell (Kôkaku kidôtai) (1995)'                                  |\n",
    "| **'Shawshank Redemption, The (1994)'**               | 'Dr. Strangelove or: How I Learned to Stop Worrying and Love the Bomb (1964)' |\n",
    "| 'In the Name of the Father (1993)'                | 'Sunset Blvd. (a.k.a. Sunset Boulevard) (1950)'                               |\n",
    "| 'Shadowlands (1993)'                              | 'Cool Hand Luke (1967)'                                                       |\n",
    "\n",
    "\n",
    "\n",
    "The problem would be how to recommend just five movies with many movies to choose from. <br> \n",
    "**For user 1**, there were multiple movies rated 5 but for the sake of giving recommendations, we need a way to pick and choose the best for the user. Currently, due to the sort functions, it was **sorted by the movie ID number** which won't give the best recommendation possible. To resolve this, **we will be using the item-based model to help filter out** even further."
   ]
  },
  {
   "cell_type": "markdown",
   "metadata": {},
   "source": [
    "## Next Step\n",
    "We created two models to help with filtering out the movies.\n",
    "One recommended movies based on the **similarities of the users** and how they rated other movies. The second recommends movies based on the **similarities of movies** that the users have seen and rated them. \n",
    "\n",
    "My first attempt was to use a ranking system based on their position in the list to both of the lists. Then the sum of that rank is taken and the lowest values were suggested to user 1. "
   ]
  },
  {
   "cell_type": "code",
   "execution_count": 25,
   "metadata": {},
   "outputs": [
    {
     "data": {
      "text/plain": [
       "array(['Shawshank Redemption, The (1994)',\n",
       "       'Ghost in the Shell (Kôkaku kidôtai) (1995)',\n",
       "       'Dr. Strangelove or: How I Learned to Stop Worrying and Love the Bomb (1964)',\n",
       "       'Sunset Blvd. (a.k.a. Sunset Boulevard) (1950)',\n",
       "       'Wallace & Gromit: The Best of Aardman Animation (1996)'],\n",
       "      dtype=object)"
      ]
     },
     "execution_count": 25,
     "metadata": {},
     "output_type": "execute_result"
    }
   ],
   "source": [
    "final_df = hp.create_ranked_df(user_user, item_item, movies)\n",
    "final_df['Movie Id'][0:5].values"
   ]
  },
  {
   "cell_type": "markdown",
   "metadata": {},
   "source": [
    "### Final Movies Recommendation \n",
    "Some of the movies were in the top movies list in their list of movies. Based on the ratings and rank we given, some movies was movies were movied up and down which ideally give the best movies to user 1. "
   ]
  },
  {
   "cell_type": "markdown",
   "metadata": {},
   "source": [
    "## Different Approach\n",
    "Assuming that the two models combined will give a better accuracy than model individually, we can make a rating system that takes the average of the two ratings and potentially get a close rating for the test set from before. "
   ]
  },
  {
   "cell_type": "code",
   "execution_count": 21,
   "metadata": {},
   "outputs": [],
   "source": [
    "predictions_user = knn_baseline.test(testset)\n",
    "predictions_item = knn_baseline_item.test(testset)"
   ]
  },
  {
   "cell_type": "code",
   "execution_count": 65,
   "metadata": {},
   "outputs": [
    {
     "data": {
      "text/plain": [
       "array(['Shawshank Redemption, The (1994)',\n",
       "       'Dr. Strangelove or: How I Learned to Stop Worrying and Love the Bomb (1964)',\n",
       "       'Sunset Blvd. (a.k.a. Sunset Boulevard) (1950)',\n",
       "       'High Noon (1952)',\n",
       "       'Lord of the Rings: The Fellowship of the Ring, The (2001)'],\n",
       "      dtype=object)"
      ]
     },
     "execution_count": 65,
     "metadata": {},
     "output_type": "execute_result"
    }
   ],
   "source": [
    "ids = [id[0] for id in sorted(user_user, key= lambda x:x[0])]\n",
    "\n",
    "rate_1 = np.array([user[1] for user in sorted(user_user, key= lambda x:x[0])])\n",
    "rate_2 = np.array([item[1] for item in sorted(item_item, key= lambda x:x[0])])\n",
    "\n",
    "rate_comb = (rate_1 + rate_2)/2\n",
    "                   \n",
    "rated_df = pd.DataFrame(zip(ids, rate_comb), columns= ['Movie_ID', 'Combined_Rating'])     \n",
    "hp.id_title(rated_df.sort_values('Combined_Rating', ascending= False)[0:5]['Movie_ID'].values, movies).values"
   ]
  },
  {
   "cell_type": "markdown",
   "metadata": {},
   "source": [
    "| Weighted Ranks Sum                                                                | Average Ratings Movies                                                            |   |\n",
    "|-----------------------------------------------------------------------------------|-----------------------------------------------------------------------------------|---|\n",
    "| **'Shawshank Redemption, The (1994)'**                                            | **'Shawshank Redemption, The (1994)'**                                            |   |\n",
    "| **'Sunset Blvd. (a.k.a. Sunset Boulevard) (1950)'**                               | **'Sunset Blvd. (a.k.a. Sunset Boulevard) (1950)'**                               |   |\n",
    "| **'Dr. Strangelove or: How I Learned to Stop Worrying and Love the Bomb (1964)'** | **'Dr. Strangelove or: How I Learned to Stop Worrying and Love the Bomb (1964)'** |   |\n",
    "| 'Ghost in the Shell (Kôkaku kidôtai) (1995)'                                      | 'Lord of the Rings: The Fellowship of the Ring, The (2001)'                       |   |\n",
    "| 'Wallace & Gromit: The Best of Aardman Animation (1996)'                          | 'High Noon (1952)'                                                                |   |\n",
    "|                                                                                   |                                                                                   |   |\n",
    "\n",
    "**Three of the Five** movies are in both list with the new methods. However, we can show that the average ranks have a **better RSME** than the previous two models.  "
   ]
  },
  {
   "cell_type": "code",
   "execution_count": 67,
   "metadata": {},
   "outputs": [
    {
     "data": {
      "text/plain": [
       "Prediction(uid=275, iid=4306, r_ui=3.0, est=4.534786018971504, details={'actual_k': 30, 'was_impossible': False})"
      ]
     },
     "metadata": {},
     "output_type": "display_data"
    },
    {
     "data": {
      "text/plain": [
       "Prediction(uid=275, iid=4306, r_ui=3.0, est=4.216200786371028, details={'actual_k': 30, 'was_impossible': False})"
      ]
     },
     "metadata": {},
     "output_type": "display_data"
    }
   ],
   "source": [
    "### First look at the predictions ### \n",
    "display(predictions_item[0], predictions_user[0])\n",
    "\n",
    "\n",
    "actual = np.array([real[2] for real in predictions_user])\n",
    "pred_1 = np.array([pred[3] for pred in predictions_user])\n",
    "pred_2 = np.array([pred[3] for pred in predictions_item])\n",
    "\n",
    "pred_combined = (pred_1 + pred_2)/2"
   ]
  },
  {
   "cell_type": "code",
   "execution_count": 68,
   "metadata": {},
   "outputs": [
    {
     "data": {
      "text/plain": [
       "39               Restoration (1995)\n",
       "143                  Jeffrey (1995)\n",
       "306    Bullets Over Broadway (1994)\n",
       "393             Widows' Peak (1994)\n",
       "458         Ruby in Paradise (1993)\n",
       "Name: title, dtype: object"
      ]
     },
     "execution_count": 68,
     "metadata": {},
     "output_type": "execute_result"
    }
   ],
   "source": [
    "average_rating_id = [ID[0] for ID in predictions_item]\n",
    "average_df = pd.DataFrame(zip(average_rating_id, pred_combined), columns= ['Movie Id', 'Mean Rating'])\n",
    "hp.id_title(average_df.sort_values('Mean Rating', ascending= False)[0:5]['Movie Id'].values, movies)"
   ]
  },
  {
   "cell_type": "code",
   "execution_count": 69,
   "metadata": {},
   "outputs": [
    {
     "data": {
      "text/plain": [
       "0.8708209320046366"
      ]
     },
     "execution_count": 69,
     "metadata": {},
     "output_type": "execute_result"
    }
   ],
   "source": [
    "from sklearn.metrics import mean_squared_error\n",
    "mean_squared_error(actual, pred_combined, squared= False)"
   ]
  },
  {
   "cell_type": "markdown",
   "metadata": {},
   "source": [
    "### All Model Results \n",
    "Comparing all the models, there is a slight improvement in the RSME score with the combined ratings of the item and user models.\n",
    "\n",
    "|            | **Knn_Baseline_user** | **Knn_Baseline_item** | **Combined Rating** |\n",
    "|------------|:---------------------:|:---------------------:|:-------------------:|\n",
    "| RSME Score | .8776                 | .8899                 | **.8708**           |"
   ]
  },
  {
   "cell_type": "code",
   "execution_count": 24,
   "metadata": {},
   "outputs": [
    {
     "ename": "NameError",
     "evalue": "name 'new_review' is not defined",
     "output_type": "error",
     "traceback": [
      "\u001b[1;31m---------------------------------------------------------------------------\u001b[0m",
      "\u001b[1;31mNameError\u001b[0m                                 Traceback (most recent call last)",
      "\u001b[1;32m<ipython-input-24-6f2eeda4611b>\u001b[0m in \u001b[0;36m<module>\u001b[1;34m\u001b[0m\n\u001b[1;32m----> 1\u001b[1;33m \u001b[0mnew_review\u001b[0m\u001b[1;33m(\u001b[0m\u001b[1;36m611\u001b[0m\u001b[1;33m,\u001b[0m\u001b[1;36m1000000\u001b[0m\u001b[1;33m,\u001b[0m \u001b[1;36m4\u001b[0m\u001b[1;33m,\u001b[0m\u001b[1;34m'happy'\u001b[0m\u001b[1;33m,\u001b[0m \u001b[1;34m'Sad'\u001b[0m\u001b[1;33m,\u001b[0m \u001b[0mratings\u001b[0m\u001b[1;33m)\u001b[0m\u001b[1;33m\u001b[0m\u001b[1;33m\u001b[0m\u001b[0m\n\u001b[0m",
      "\u001b[1;31mNameError\u001b[0m: name 'new_review' is not defined"
     ]
    }
   ],
   "source": [
    "new_review(611,1000000, 4,'happy', 'Sad', ratings)"
   ]
  },
  {
   "cell_type": "code",
   "execution_count": null,
   "metadata": {},
   "outputs": [],
   "source": [
    "## \n",
    "new_review = {'user_id': 611, 'movie_id': 1, 'title':1 , 'genre':1, 'rating': 1}\n"
   ]
  },
  {
   "cell_type": "code",
   "execution_count": null,
   "metadata": {},
   "outputs": [],
   "source": []
  },
  {
   "cell_type": "code",
   "execution_count": null,
   "metadata": {},
   "outputs": [],
   "source": [
    "add_review(new_review, ratings)"
   ]
  }
 ],
 "metadata": {
  "kernelspec": {
   "display_name": "Python 3",
   "language": "python",
   "name": "python3"
  },
  "language_info": {
   "codemirror_mode": {
    "name": "ipython",
    "version": 3
   },
   "file_extension": ".py",
   "mimetype": "text/x-python",
   "name": "python",
   "nbconvert_exporter": "python",
   "pygments_lexer": "ipython3",
   "version": "3.8.5"
  }
 },
 "nbformat": 4,
 "nbformat_minor": 4
}
